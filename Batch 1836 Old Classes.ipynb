{
 "cells": [
  {
   "cell_type": "markdown",
   "id": "053cb841",
   "metadata": {},
   "source": [
    "Boolean Expressions - are created with the keywords and, or, not. Python will understand by itself its called key word or reserved words. "
   ]
  },
  {
   "cell_type": "code",
   "execution_count": 1,
   "id": "10230e3f",
   "metadata": {
    "scrolled": true
   },
   "outputs": [
    {
     "data": {
      "text/plain": [
       "False"
      ]
     },
     "execution_count": 1,
     "metadata": {},
     "output_type": "execute_result"
    }
   ],
   "source": [
    "True and False # in this case both needs to be correct"
   ]
  },
  {
   "cell_type": "code",
   "execution_count": 5,
   "id": "aeee7d6e",
   "metadata": {},
   "outputs": [
    {
     "data": {
      "text/plain": [
       "True"
      ]
     },
     "execution_count": 5,
     "metadata": {},
     "output_type": "execute_result"
    }
   ],
   "source": [
    "True or False # one of the case should be correct"
   ]
  },
  {
   "cell_type": "code",
   "execution_count": 6,
   "id": "bf829cf9",
   "metadata": {},
   "outputs": [
    {
     "data": {
      "text/plain": [
       "True"
      ]
     },
     "execution_count": 6,
     "metadata": {},
     "output_type": "execute_result"
    }
   ],
   "source": [
    "not False # it means it is true"
   ]
  },
  {
   "cell_type": "code",
   "execution_count": 7,
   "id": "a34017a6",
   "metadata": {},
   "outputs": [
    {
     "data": {
      "text/plain": [
       "True"
      ]
     },
     "execution_count": 7,
     "metadata": {},
     "output_type": "execute_result"
    }
   ],
   "source": [
    "True is True # it is true"
   ]
  },
  {
   "cell_type": "code",
   "execution_count": 8,
   "id": "02898e39",
   "metadata": {},
   "outputs": [
    {
     "data": {
      "text/plain": [
       "False"
      ]
     },
     "execution_count": 8,
     "metadata": {},
     "output_type": "execute_result"
    }
   ],
   "source": [
    "True is False # true has been converted to false"
   ]
  },
  {
   "cell_type": "code",
   "execution_count": 9,
   "id": "24487ad2",
   "metadata": {},
   "outputs": [
    {
     "name": "stderr",
     "output_type": "stream",
     "text": [
      "<>:1: SyntaxWarning: \"is\" with a literal. Did you mean \"==\"?\n",
      "<>:1: SyntaxWarning: \"is\" with a literal. Did you mean \"==\"?\n",
      "<ipython-input-9-fc30fde6cbc3>:1: SyntaxWarning: \"is\" with a literal. Did you mean \"==\"?\n",
      "  'b' is 'd'\n"
     ]
    },
    {
     "data": {
      "text/plain": [
       "False"
      ]
     },
     "execution_count": 9,
     "metadata": {},
     "output_type": "execute_result"
    }
   ],
   "source": [
    "'b' is 'd' # asking if b is d? its false as its not equal"
   ]
  },
  {
   "cell_type": "code",
   "execution_count": 10,
   "id": "1757badb",
   "metadata": {},
   "outputs": [
    {
     "data": {
      "text/plain": [
       "2"
      ]
     },
     "execution_count": 10,
     "metadata": {},
     "output_type": "execute_result"
    }
   ],
   "source": [
    "True + True # in python true is 1 and false is 0 so here its 1 + 1 "
   ]
  },
  {
   "cell_type": "code",
   "execution_count": 11,
   "id": "823ce29e",
   "metadata": {},
   "outputs": [
    {
     "data": {
      "text/plain": [
       "1"
      ]
     },
     "execution_count": 11,
     "metadata": {},
     "output_type": "execute_result"
    }
   ],
   "source": [
    "True + False # 1 + 0 True is 1 and False is 0"
   ]
  },
  {
   "cell_type": "code",
   "execution_count": 12,
   "id": "4e890831",
   "metadata": {},
   "outputs": [
    {
     "data": {
      "text/plain": [
       "1"
      ]
     },
     "execution_count": 12,
     "metadata": {},
     "output_type": "execute_result"
    }
   ],
   "source": [
    "True - False"
   ]
  },
  {
   "cell_type": "code",
   "execution_count": 14,
   "id": "ab4b79be",
   "metadata": {},
   "outputs": [
    {
     "data": {
      "text/plain": [
       "0"
      ]
     },
     "execution_count": 14,
     "metadata": {},
     "output_type": "execute_result"
    }
   ],
   "source": [
    "False + False"
   ]
  },
  {
   "cell_type": "code",
   "execution_count": 15,
   "id": "c3f2f3ba",
   "metadata": {},
   "outputs": [
    {
     "data": {
      "text/plain": [
       "1"
      ]
     },
     "execution_count": 15,
     "metadata": {},
     "output_type": "execute_result"
    }
   ],
   "source": [
    "True - False"
   ]
  },
  {
   "cell_type": "code",
   "execution_count": 16,
   "id": "19bee144",
   "metadata": {},
   "outputs": [
    {
     "data": {
      "text/plain": [
       "False"
      ]
     },
     "execution_count": 16,
     "metadata": {},
     "output_type": "execute_result"
    }
   ],
   "source": [
    "10 == 11 # equal to is == not single ="
   ]
  },
  {
   "cell_type": "code",
   "execution_count": 17,
   "id": "29e5cd2c",
   "metadata": {},
   "outputs": [
    {
     "data": {
      "text/plain": [
       "True"
      ]
     },
     "execution_count": 17,
     "metadata": {},
     "output_type": "execute_result"
    }
   ],
   "source": [
    "10 == 10"
   ]
  },
  {
   "cell_type": "markdown",
   "id": "84529a48",
   "metadata": {},
   "source": [
    "Vote on Menti.com"
   ]
  },
  {
   "cell_type": "code",
   "execution_count": 18,
   "id": "d36a62bb",
   "metadata": {},
   "outputs": [
    {
     "data": {
      "text/plain": [
       "True"
      ]
     },
     "execution_count": 18,
     "metadata": {},
     "output_type": "execute_result"
    }
   ],
   "source": [
    "True and False or True"
   ]
  },
  {
   "cell_type": "markdown",
   "id": "2d5b7814",
   "metadata": {},
   "source": [
    "Key words and Data types/structures"
   ]
  },
  {
   "cell_type": "markdown",
   "id": "052c92f2",
   "metadata": {},
   "source": [
    "How to check the key words\n",
    "Key Words are reserved words and can not be used as variables name"
   ]
  },
  {
   "cell_type": "code",
   "execution_count": 20,
   "id": "29351a84",
   "metadata": {},
   "outputs": [
    {
     "name": "stdout",
     "output_type": "stream",
     "text": [
      "['False', 'None', 'True', 'and', 'as', 'assert', 'async', 'await', 'break', 'class', 'continue', 'def', 'del', 'elif', 'else', 'except', 'finally', 'for', 'from', 'global', 'if', 'import', 'in', 'is', 'lambda', 'nonlocal', 'not', 'or', 'pass', 'raise', 'return', 'try', 'while', 'with', 'yield']\n"
     ]
    }
   ],
   "source": [
    "import keyword\n",
    "\n",
    "print(keyword.kwlist)"
   ]
  },
  {
   "cell_type": "markdown",
   "id": "ecba145a",
   "metadata": {},
   "source": [
    "Data Types/Structures: Numbers,String,List.Tuple,Set                  and Dictionary"
   ]
  },
  {
   "cell_type": "code",
   "execution_count": 22,
   "id": "d56bb078",
   "metadata": {},
   "outputs": [
    {
     "data": {
      "text/plain": [
       "int"
      ]
     },
     "execution_count": 22,
     "metadata": {},
     "output_type": "execute_result"
    }
   ],
   "source": [
    "#Numbers\n",
    "a = 20\n",
    "type (a)"
   ]
  },
  {
   "cell_type": "code",
   "execution_count": 23,
   "id": "b765a44d",
   "metadata": {},
   "outputs": [
    {
     "data": {
      "text/plain": [
       "float"
      ]
     },
     "execution_count": 23,
     "metadata": {},
     "output_type": "execute_result"
    }
   ],
   "source": [
    "a=20.0\n",
    "type (a)"
   ]
  },
  {
   "cell_type": "code",
   "execution_count": 1,
   "id": "7a24aabc",
   "metadata": {},
   "outputs": [
    {
     "data": {
      "text/plain": [
       "complex"
      ]
     },
     "execution_count": 1,
     "metadata": {},
     "output_type": "execute_result"
    }
   ],
   "source": [
    "c= 6+2j\n",
    "type(c)"
   ]
  },
  {
   "cell_type": "markdown",
   "id": "95c4cb97",
   "metadata": {},
   "source": [
    "String"
   ]
  },
  {
   "cell_type": "code",
   "execution_count": 2,
   "id": "ebaaeb28",
   "metadata": {},
   "outputs": [
    {
     "name": "stdout",
     "output_type": "stream",
     "text": [
      "Hello world\n"
     ]
    }
   ],
   "source": [
    "print (\"Hello world\") # whenever we write anything inside \n",
    "single quote, double quote or triple quote is called a string"
   ]
  },
  {
   "cell_type": "code",
   "execution_count": 8,
   "id": "78831949",
   "metadata": {},
   "outputs": [],
   "source": [
    "first_string='Python'\n",
    "secound_string=' is a powerful'\n",
    "third_string=' language'\n",
    "#combining strings in python useing variables(ex:frist string) and data('python')"
   ]
  },
  {
   "cell_type": "code",
   "execution_count": 9,
   "id": "102eae73",
   "metadata": {},
   "outputs": [
    {
     "name": "stdout",
     "output_type": "stream",
     "text": [
      "Python is a powerful language\n"
     ]
    }
   ],
   "source": [
    "print(first_string+secound_string+third_string)"
   ]
  },
  {
   "cell_type": "code",
   "execution_count": 10,
   "id": "e3a44e1d",
   "metadata": {},
   "outputs": [
    {
     "data": {
      "text/plain": [
       "str"
      ]
     },
     "execution_count": 10,
     "metadata": {},
     "output_type": "execute_result"
    }
   ],
   "source": [
    "type(first_string) # str is string data type"
   ]
  },
  {
   "cell_type": "code",
   "execution_count": 11,
   "id": "037396b5",
   "metadata": {},
   "outputs": [
    {
     "data": {
      "text/plain": [
       "float"
      ]
     },
     "execution_count": 11,
     "metadata": {},
     "output_type": "execute_result"
    }
   ],
   "source": [
    "x=123.0\n",
    "type(x)"
   ]
  },
  {
   "cell_type": "markdown",
   "id": "ed2db20d",
   "metadata": {},
   "source": [
    "join strings and number"
   ]
  },
  {
   "cell_type": "code",
   "execution_count": 13,
   "id": "ba21f7a6",
   "metadata": {},
   "outputs": [
    {
     "name": "stdout",
     "output_type": "stream",
     "text": [
      "Day1\n"
     ]
    }
   ],
   "source": [
    "print('Day' + '1')# where the int 1 is converted into string"
   ]
  },
  {
   "cell_type": "markdown",
   "id": "6e352487",
   "metadata": {},
   "source": [
    "List"
   ]
  },
  {
   "cell_type": "markdown",
   "id": "b94ba03c",
   "metadata": {},
   "source": [
    "Its a type of container which will hold any type of data.\n",
    "\n",
    "Properties of List:\n",
    "1. The data is always in a [ ]\n",
    "2. It can hold any type of data\n",
    "3. We can change or update the data in the list or its mutable\n"
   ]
  },
  {
   "cell_type": "code",
   "execution_count": 15,
   "id": "90c59fd5",
   "metadata": {},
   "outputs": [
    {
     "data": {
      "text/plain": [
       "[]"
      ]
     },
     "execution_count": 15,
     "metadata": {},
     "output_type": "execute_result"
    }
   ],
   "source": [
    "l=[]\n",
    "l"
   ]
  },
  {
   "cell_type": "code",
   "execution_count": 16,
   "id": "673553ef",
   "metadata": {},
   "outputs": [
    {
     "data": {
      "text/plain": [
       "['a', 'b', 'c']"
      ]
     },
     "execution_count": 16,
     "metadata": {},
     "output_type": "execute_result"
    }
   ],
   "source": [
    "l=['a','b','c']\n",
    "l"
   ]
  },
  {
   "cell_type": "code",
   "execution_count": 17,
   "id": "98b707db",
   "metadata": {},
   "outputs": [
    {
     "data": {
      "text/plain": [
       "['a', 6, 4.5]"
      ]
     },
     "execution_count": 17,
     "metadata": {},
     "output_type": "execute_result"
    }
   ],
   "source": [
    "l=['a',6,4.5]\n",
    "l"
   ]
  },
  {
   "cell_type": "code",
   "execution_count": 18,
   "id": "502d910b",
   "metadata": {},
   "outputs": [
    {
     "data": {
      "text/plain": [
       "['a', 6, 4.5]"
      ]
     },
     "execution_count": 18,
     "metadata": {},
     "output_type": "execute_result"
    }
   ],
   "source": [
    "#how to copy one list into another list\n",
    "l2=list(l)\n",
    "l2"
   ]
  },
  {
   "cell_type": "code",
   "execution_count": 19,
   "id": "8eecc5fc",
   "metadata": {},
   "outputs": [
    {
     "data": {
      "text/plain": [
       "[23, 45, 67, 89]"
      ]
     },
     "execution_count": 19,
     "metadata": {},
     "output_type": "execute_result"
    }
   ],
   "source": [
    "marks=[23,45,67,89]\n",
    "marks"
   ]
  },
  {
   "cell_type": "code",
   "execution_count": 20,
   "id": "3acbfb65",
   "metadata": {},
   "outputs": [
    {
     "data": {
      "text/plain": [
       "[23, 45, 67, 89]"
      ]
     },
     "execution_count": 20,
     "metadata": {},
     "output_type": "execute_result"
    }
   ],
   "source": [
    "copy_marks= list(marks)\n",
    "copy_marks"
   ]
  },
  {
   "cell_type": "markdown",
   "id": "dfe77d58",
   "metadata": {},
   "source": [
    "A python string is also a sequence of characterers and can be treated as an tierable over those characters. Combined with the list()function, a new list of the characters can easily be generated."
   ]
  },
  {
   "cell_type": "code",
   "execution_count": 21,
   "id": "447b0993",
   "metadata": {},
   "outputs": [
    {
     "data": {
      "text/plain": [
       "['a', 'b', 'c', 'd', 'e', 'f', 'g', 'h', 'i']"
      ]
     },
     "execution_count": 21,
     "metadata": {},
     "output_type": "execute_result"
    }
   ],
   "source": [
    "list('abcdefghi')"
   ]
  },
  {
   "cell_type": "markdown",
   "id": "1e95bcb9",
   "metadata": {},
   "source": [
    "Adding you can append to a list very easily (addto the end)or insert at an arbitary index."
   ]
  },
  {
   "cell_type": "markdown",
   "id": "955acca7",
   "metadata": {},
   "source": [
    "Append"
   ]
  },
  {
   "cell_type": "code",
   "execution_count": 22,
   "id": "eaaae859",
   "metadata": {},
   "outputs": [
    {
     "data": {
      "text/plain": [
       "['Radha']"
      ]
     },
     "execution_count": 22,
     "metadata": {},
     "output_type": "execute_result"
    }
   ],
   "source": [
    "employee=[]\n",
    "employee.append('Radha')\n",
    "employee"
   ]
  },
  {
   "cell_type": "code",
   "execution_count": 23,
   "id": "34534767",
   "metadata": {},
   "outputs": [
    {
     "data": {
      "text/plain": [
       "['Radha', 'Ramesh', 'Salman']"
      ]
     },
     "execution_count": 23,
     "metadata": {},
     "output_type": "execute_result"
    }
   ],
   "source": [
    "employee.append('Ramesh')\n",
    "employee.append('Salman')\n",
    "employee"
   ]
  },
  {
   "cell_type": "markdown",
   "id": "108abcc9",
   "metadata": {},
   "source": [
    "In append the data are added at the end one by one"
   ]
  },
  {
   "cell_type": "markdown",
   "id": "d31fb045",
   "metadata": {},
   "source": [
    "Insert : It is used to add the data inbetween the data list.\n",
    "Syntax:insert(index,object)\n",
    "This command places the object at the index supplied"
   ]
  },
  {
   "cell_type": "code",
   "execution_count": 26,
   "id": "d7b44c52",
   "metadata": {},
   "outputs": [
    {
     "data": {
      "text/plain": [
       "['Radha', \"D'souza\", \"D'souza\", 'Ramesh', 'Salman']"
      ]
     },
     "execution_count": 26,
     "metadata": {},
     "output_type": "execute_result"
    }
   ],
   "source": [
    "employee.insert(1,\"D'souza\")\n",
    "employee"
   ]
  },
  {
   "cell_type": "code",
   "execution_count": 27,
   "id": "d2842e08",
   "metadata": {},
   "outputs": [
    {
     "data": {
      "text/plain": [
       "[1000, 2000, 3000, 4000]"
      ]
     },
     "execution_count": 27,
     "metadata": {},
     "output_type": "execute_result"
    }
   ],
   "source": [
    "emp_salary=[1000,2000,3000,4000]\n",
    "emp_salary"
   ]
  },
  {
   "cell_type": "code",
   "execution_count": 28,
   "id": "39ba8e3c",
   "metadata": {},
   "outputs": [
    {
     "data": {
      "text/plain": [
       "[1000, 2000, 60000, 3000, 4000]"
      ]
     },
     "execution_count": 28,
     "metadata": {},
     "output_type": "execute_result"
    }
   ],
   "source": [
    "emp_salary.insert(2,60000)\n",
    "emp_salary"
   ]
  },
  {
   "cell_type": "code",
   "execution_count": 29,
   "id": "0101c65d",
   "metadata": {},
   "outputs": [
    {
     "data": {
      "text/plain": [
       "5"
      ]
     },
     "execution_count": 29,
     "metadata": {},
     "output_type": "execute_result"
    }
   ],
   "source": [
    "#lenth len() helps in checking the lenth of data in the list\n",
    "len(emp_salary)"
   ]
  },
  {
   "cell_type": "markdown",
   "id": "c6bc8269",
   "metadata": {},
   "source": [
    "Indexing and Slicing\n",
    "\n",
    "Indexing and slicing of lists works just like in strings. Lets make a new list to remind ourselves of how this works"
   ]
  },
  {
   "cell_type": "code",
   "execution_count": 2,
   "id": "47f5ed89",
   "metadata": {},
   "outputs": [],
   "source": [
    "my_list=[12,23,34,45,56,67]"
   ]
  },
  {
   "cell_type": "code",
   "execution_count": 31,
   "id": "bad5a4f1",
   "metadata": {},
   "outputs": [
    {
     "data": {
      "text/plain": [
       "45"
      ]
     },
     "execution_count": 31,
     "metadata": {},
     "output_type": "execute_result"
    }
   ],
   "source": [
    "#grab element based on index number (negative and positive)\n",
    "my_list[3]"
   ]
  },
  {
   "cell_type": "code",
   "execution_count": 32,
   "id": "2f5046a6",
   "metadata": {},
   "outputs": [
    {
     "data": {
      "text/plain": [
       "[12, 23, 34, 90, 56, 67]"
      ]
     },
     "execution_count": 32,
     "metadata": {},
     "output_type": "execute_result"
    }
   ],
   "source": [
    "#update the data based on index\n",
    "my_list[3]=90\n",
    "my_list"
   ]
  },
  {
   "cell_type": "code",
   "execution_count": 4,
   "id": "44e63412",
   "metadata": {},
   "outputs": [
    {
     "data": {
      "text/plain": [
       "[23, 34]"
      ]
     },
     "execution_count": 4,
     "metadata": {},
     "output_type": "execute_result"
    }
   ],
   "source": [
    "#grabe index 1 and everything past it (it will fatch from 1 to 2 index data)\n",
    "my_list[1:3]"
   ]
  },
  {
   "cell_type": "code",
   "execution_count": 5,
   "id": "9b9ac575",
   "metadata": {},
   "outputs": [
    {
     "data": {
      "text/plain": [
       "[34, 45, 56, 67]"
      ]
     },
     "execution_count": 5,
     "metadata": {},
     "output_type": "execute_result"
    }
   ],
   "source": [
    "#grabe index 2 to last element\n",
    "my_list[2:]"
   ]
  },
  {
   "cell_type": "code",
   "execution_count": 6,
   "id": "7311fe21",
   "metadata": {},
   "outputs": [
    {
     "data": {
      "text/plain": [
       "[12, 23, 34, 45]"
      ]
     },
     "execution_count": 6,
     "metadata": {},
     "output_type": "execute_result"
    }
   ],
   "source": [
    "#grabe index from 0 to 3\n",
    "my_list[:4]"
   ]
  },
  {
   "cell_type": "markdown",
   "id": "58703cba",
   "metadata": {},
   "source": [
    "we can also use + to temporary add data to exesting list. "
   ]
  },
  {
   "cell_type": "markdown",
   "id": "0c8d08e5",
   "metadata": {},
   "source": [
    "Note: We can save it permanently by reassigning it to the same list or new list"
   ]
  },
  {
   "cell_type": "code",
   "execution_count": 7,
   "id": "3e2a25ce",
   "metadata": {},
   "outputs": [
    {
     "data": {
      "text/plain": [
       "[12, 23, 34, 45, 56, 67, '23']"
      ]
     },
     "execution_count": 7,
     "metadata": {},
     "output_type": "execute_result"
    }
   ],
   "source": [
    "my_list +['23']"
   ]
  },
  {
   "cell_type": "code",
   "execution_count": 8,
   "id": "f0343429",
   "metadata": {},
   "outputs": [],
   "source": [
    "my_list=my_list+ ['23']"
   ]
  },
  {
   "cell_type": "code",
   "execution_count": 9,
   "id": "ed883db7",
   "metadata": {},
   "outputs": [
    {
     "data": {
      "text/plain": [
       "[12, 23, 34, 45, 56, 67, '23']"
      ]
     },
     "execution_count": 9,
     "metadata": {},
     "output_type": "execute_result"
    }
   ],
   "source": [
    "my_list"
   ]
  },
  {
   "cell_type": "code",
   "execution_count": 10,
   "id": "b3ddb90e",
   "metadata": {},
   "outputs": [
    {
     "data": {
      "text/plain": [
       "[12, 23, 34, 45, 56, 67, '23', 12, 23, 34, 45, 56, 67, '23']"
      ]
     },
     "execution_count": 10,
     "metadata": {},
     "output_type": "execute_result"
    }
   ],
   "source": [
    "#make the list double, its temporary to make it permanent we have to reissigne it\n",
    "my_list*2"
   ]
  },
  {
   "cell_type": "markdown",
   "id": "15cf2144",
   "metadata": {},
   "source": [
    "Advanced List"
   ]
  },
  {
   "cell_type": "code",
   "execution_count": 11,
   "id": "8d982c31",
   "metadata": {},
   "outputs": [
    {
     "data": {
      "text/plain": [
       "1"
      ]
     },
     "execution_count": 11,
     "metadata": {},
     "output_type": "execute_result"
    }
   ],
   "source": [
    "#count: it counts the frequency of a data in a list\n",
    "my_list.count(23)"
   ]
  },
  {
   "cell_type": "code",
   "execution_count": 14,
   "id": "7af5dcc8",
   "metadata": {},
   "outputs": [
    {
     "data": {
      "text/plain": [
       "[1, 2, 3, [4, 5]]"
      ]
     },
     "execution_count": 14,
     "metadata": {},
     "output_type": "execute_result"
    }
   ],
   "source": [
    "#extend: append method will add data in a square bracket\n",
    "x=[1,2,3]\n",
    "x.append([4,5])\n",
    "x"
   ]
  },
  {
   "cell_type": "code",
   "execution_count": 17,
   "id": "2c94a491",
   "metadata": {},
   "outputs": [
    {
     "data": {
      "text/plain": [
       "[1, 2, 3, 4, 5]"
      ]
     },
     "execution_count": 17,
     "metadata": {},
     "output_type": "execute_result"
    }
   ],
   "source": [
    "#extend is used in such case to add data to the existing list without the bracket\n",
    "x=[1,2,3]\n",
    "x.extend([4,5])\n",
    "x"
   ]
  },
  {
   "cell_type": "code",
   "execution_count": 18,
   "id": "8d779863",
   "metadata": {},
   "outputs": [
    {
     "data": {
      "text/plain": [
       "1"
      ]
     },
     "execution_count": 18,
     "metadata": {},
     "output_type": "execute_result"
    }
   ],
   "source": [
    "#index returns the index number of the elements placed in an list. make a note that if the element is not in the list then it returns an error\n",
    "#Note: it cannot be used in case of duplicate data in the list\n",
    "my_list.index(23)"
   ]
  },
  {
   "cell_type": "code",
   "execution_count": 21,
   "id": "6d2e27fd",
   "metadata": {},
   "outputs": [
    {
     "data": {
      "text/plain": [
       "['ram', 'shila', 'aryan']"
      ]
     },
     "execution_count": 21,
     "metadata": {},
     "output_type": "execute_result"
    }
   ],
   "source": [
    "#POP: its used to remove the data from the list. it removes the last element if we are not specifing the index number\n",
    "students=['ram','shila','aryan','nancy']\n",
    "pop_last=students.pop()\n",
    "students"
   ]
  },
  {
   "cell_type": "code",
   "execution_count": 23,
   "id": "74482aa8",
   "metadata": {},
   "outputs": [
    {
     "data": {
      "text/plain": [
       "'aryan'"
      ]
     },
     "execution_count": 23,
     "metadata": {},
     "output_type": "execute_result"
    }
   ],
   "source": [
    "#delete based on index number\n",
    "pop_index=students.pop(2)\n",
    "pop_index"
   ]
  },
  {
   "cell_type": "code",
   "execution_count": 24,
   "id": "032c3c71",
   "metadata": {},
   "outputs": [
    {
     "data": {
      "text/plain": [
       "['ram', 'shila']"
      ]
     },
     "execution_count": 24,
     "metadata": {},
     "output_type": "execute_result"
    }
   ],
   "source": [
    "students"
   ]
  },
  {
   "cell_type": "code",
   "execution_count": 25,
   "id": "f9aeeee4",
   "metadata": {},
   "outputs": [
    {
     "data": {
      "text/plain": [
       "[1, 3, 4, 5, 6, 7, 8, 9, 10, 2, 6]"
      ]
     },
     "execution_count": 25,
     "metadata": {},
     "output_type": "execute_result"
    }
   ],
   "source": [
    "#Remove is used to remove the duplicates. it removes the very first occurance of that element\n",
    "roll_numbers=[1,2,3,4,5,6,7,8,9,10,2,6]\n",
    "roll_numbers.remove(2)\n",
    "roll_numbers"
   ]
  },
  {
   "cell_type": "markdown",
   "id": "787d9edf",
   "metadata": {},
   "source": [
    "Note: Keep the cursore in the paranthisis and hold shift and tab it will show the information related to the command.\n",
    "    if we use shift and tab 4 times it will show description along with a examples"
   ]
  },
  {
   "cell_type": "code",
   "execution_count": 26,
   "id": "60d4847b",
   "metadata": {},
   "outputs": [
    {
     "data": {
      "text/plain": [
       "[4, 3, 2, 1]"
      ]
     },
     "execution_count": 26,
     "metadata": {},
     "output_type": "execute_result"
    }
   ],
   "source": [
    "#reverse: it will reverse the data in the list\n",
    "a=[1,2,3,4]\n",
    "a.reverse()\n",
    "a"
   ]
  },
  {
   "cell_type": "code",
   "execution_count": 27,
   "id": "48cd1b86",
   "metadata": {},
   "outputs": [
    {
     "data": {
      "text/plain": [
       "[1, 1, 4, 4, 6, 6, 6, 9, 9, 9]"
      ]
     },
     "execution_count": 27,
     "metadata": {},
     "output_type": "execute_result"
    }
   ],
   "source": [
    "# sort: arranging data in decreasing or increasing order\n",
    "w=[1,6,4,9,1,6,9,4,6,9,] #assending order\n",
    "w.sort()\n",
    "w"
   ]
  },
  {
   "cell_type": "code",
   "execution_count": 28,
   "id": "9691a903",
   "metadata": {},
   "outputs": [
    {
     "data": {
      "text/plain": [
       "[9, 9, 9, 6, 6, 6, 4, 4, 1, 1]"
      ]
     },
     "execution_count": 28,
     "metadata": {},
     "output_type": "execute_result"
    }
   ],
   "source": [
    "w.sort(reverse=True)#desending order\n",
    "w"
   ]
  },
  {
   "cell_type": "markdown",
   "id": "ab557110",
   "metadata": {},
   "source": [
    "Tuples\n",
    "Its a container which holdes data\n",
    "Properties of tuples\n",
    "1. immutable or no edit\n",
    "2. ( )\n",
    "3. can hold all types of data\n",
    "\n",
    "A tuple can be converted into list and list can converted to tuples"
   ]
  },
  {
   "cell_type": "code",
   "execution_count": 29,
   "id": "26bf86a1",
   "metadata": {},
   "outputs": [
    {
     "data": {
      "text/plain": [
       "(1, 2, 3)"
      ]
     },
     "execution_count": 29,
     "metadata": {},
     "output_type": "execute_result"
    }
   ],
   "source": [
    "t=(1,2,3)\n",
    "t"
   ]
  },
  {
   "cell_type": "code",
   "execution_count": 30,
   "id": "dbc304b4",
   "metadata": {},
   "outputs": [
    {
     "data": {
      "text/plain": [
       "tuple"
      ]
     },
     "execution_count": 30,
     "metadata": {},
     "output_type": "execute_result"
    }
   ],
   "source": [
    "type(t)"
   ]
  },
  {
   "cell_type": "markdown",
   "id": "c0ebfa52",
   "metadata": {},
   "source": [
    "Tuple are used to keep unmutable data like saalary, if salary needs update we can convert it into list andd do the change and then convert it into tuple"
   ]
  },
  {
   "cell_type": "code",
   "execution_count": 31,
   "id": "a20a2f70",
   "metadata": {},
   "outputs": [
    {
     "data": {
      "text/plain": [
       "list"
      ]
     },
     "execution_count": 31,
     "metadata": {},
     "output_type": "execute_result"
    }
   ],
   "source": [
    "#convert tuple into list\n",
    "var1=list(t)\n",
    "type(var1)"
   ]
  },
  {
   "cell_type": "code",
   "execution_count": 32,
   "id": "567478ad",
   "metadata": {},
   "outputs": [
    {
     "data": {
      "text/plain": [
       "[1, 2, 3]"
      ]
     },
     "execution_count": 32,
     "metadata": {},
     "output_type": "execute_result"
    }
   ],
   "source": [
    "var1"
   ]
  },
  {
   "cell_type": "markdown",
   "id": "f746c796",
   "metadata": {},
   "source": [
    "List Practice"
   ]
  },
  {
   "cell_type": "code",
   "execution_count": 68,
   "id": "c5b9ff9b",
   "metadata": {},
   "outputs": [
    {
     "data": {
      "text/plain": [
       "[12, 45, 66, 70, 43.5, 21.87]"
      ]
     },
     "execution_count": 68,
     "metadata": {},
     "output_type": "execute_result"
    }
   ],
   "source": [
    "list =[12,45,66,70,43.5,21.87]\n",
    "list"
   ]
  },
  {
   "cell_type": "code",
   "execution_count": 74,
   "id": "0bfaea14",
   "metadata": {},
   "outputs": [
    {
     "data": {
      "text/plain": [
       "[12, 45, 66, 70]"
      ]
     },
     "execution_count": 74,
     "metadata": {},
     "output_type": "execute_result"
    }
   ],
   "source": [
    "list[0:4] #sliceing positive"
   ]
  },
  {
   "cell_type": "code",
   "execution_count": 86,
   "id": "2811c06f",
   "metadata": {},
   "outputs": [
    {
     "data": {
      "text/plain": [
       "[66, 70, 43.5]"
      ]
     },
     "execution_count": 86,
     "metadata": {},
     "output_type": "execute_result"
    }
   ],
   "source": [
    "list[-4:-1]#slicing negative"
   ]
  },
  {
   "cell_type": "code",
   "execution_count": 80,
   "id": "07ffa78f",
   "metadata": {},
   "outputs": [
    {
     "data": {
      "text/plain": [
       "[12, 45, 66, 70, 43.5, 21.87]"
      ]
     },
     "execution_count": 80,
     "metadata": {},
     "output_type": "execute_result"
    }
   ],
   "source": [
    "list[:] #step by defult is 1"
   ]
  },
  {
   "cell_type": "code",
   "execution_count": 81,
   "id": "b69dd9da",
   "metadata": {},
   "outputs": [
    {
     "data": {
      "text/plain": [
       "[12, 45, 66, 70, 43.5, 21.87]"
      ]
     },
     "execution_count": 81,
     "metadata": {},
     "output_type": "execute_result"
    }
   ],
   "source": [
    "list[::]"
   ]
  },
  {
   "cell_type": "code",
   "execution_count": 82,
   "id": "e3c77d0a",
   "metadata": {},
   "outputs": [
    {
     "data": {
      "text/plain": [
       "[12, 66, 43.5]"
      ]
     },
     "execution_count": 82,
     "metadata": {},
     "output_type": "execute_result"
    }
   ],
   "source": [
    "list[::2]#in this step it will skip secound element as its 2"
   ]
  },
  {
   "cell_type": "code",
   "execution_count": 83,
   "id": "69a8a369",
   "metadata": {},
   "outputs": [
    {
     "data": {
      "text/plain": [
       "[12, 70]"
      ]
     },
     "execution_count": 83,
     "metadata": {},
     "output_type": "execute_result"
    }
   ],
   "source": [
    "list[::3]#in this case its skiping 3 elements after 3 "
   ]
  },
  {
   "cell_type": "code",
   "execution_count": 34,
   "id": "4a4c61ce",
   "metadata": {},
   "outputs": [
    {
     "data": {
      "text/plain": [
       "(1, 2, 3)"
      ]
     },
     "execution_count": 34,
     "metadata": {},
     "output_type": "execute_result"
    }
   ],
   "source": [
    "#convert into tuple\n",
    "tuple(var1)"
   ]
  },
  {
   "cell_type": "code",
   "execution_count": 35,
   "id": "27118d6d",
   "metadata": {},
   "outputs": [
    {
     "data": {
      "text/plain": [
       "list"
      ]
     },
     "execution_count": 35,
     "metadata": {},
     "output_type": "execute_result"
    }
   ],
   "source": [
    "type(var1)"
   ]
  },
  {
   "cell_type": "code",
   "execution_count": 36,
   "id": "b207de41",
   "metadata": {},
   "outputs": [
    {
     "data": {
      "text/plain": [
       "3"
      ]
     },
     "execution_count": 36,
     "metadata": {},
     "output_type": "execute_result"
    }
   ],
   "source": [
    "#lenth of the data\n",
    "len(var1)"
   ]
  },
  {
   "cell_type": "markdown",
   "id": "4143cf24",
   "metadata": {},
   "source": [
    "We can do indexing here too just like the list"
   ]
  },
  {
   "cell_type": "markdown",
   "id": "0fb24d68",
   "metadata": {},
   "source": [
    "SET\n",
    "\n",
    "Its a collection of unique elements so no duplicate data in it. "
   ]
  },
  {
   "cell_type": "code",
   "execution_count": 38,
   "id": "49a5f4ec",
   "metadata": {},
   "outputs": [
    {
     "data": {
      "text/plain": [
       "set"
      ]
     },
     "execution_count": 38,
     "metadata": {},
     "output_type": "execute_result"
    }
   ],
   "source": [
    "x=set()\n",
    "type(x)"
   ]
  },
  {
   "cell_type": "code",
   "execution_count": 40,
   "id": "f2d155e5",
   "metadata": {},
   "outputs": [
    {
     "data": {
      "text/plain": [
       "{1}"
      ]
     },
     "execution_count": 40,
     "metadata": {},
     "output_type": "execute_result"
    }
   ],
   "source": [
    "x.add(1)\n",
    "x"
   ]
  },
  {
   "cell_type": "code",
   "execution_count": 42,
   "id": "f7265433",
   "metadata": {},
   "outputs": [
    {
     "data": {
      "text/plain": [
       "{1}"
      ]
     },
     "execution_count": 42,
     "metadata": {},
     "output_type": "execute_result"
    }
   ],
   "source": [
    "x.add(1)\n",
    "x"
   ]
  },
  {
   "cell_type": "markdown",
   "id": "a8864dbe",
   "metadata": {},
   "source": [
    "we tried to add 1 two times yet it shows one 1 one. as set will not take duplecate data."
   ]
  },
  {
   "cell_type": "code",
   "execution_count": 44,
   "id": "43367d4e",
   "metadata": {},
   "outputs": [
    {
     "data": {
      "text/plain": [
       "{1, 2, 3, 4, 6, 7, 9}"
      ]
     },
     "execution_count": 44,
     "metadata": {},
     "output_type": "execute_result"
    }
   ],
   "source": [
    "#convert list to set\n",
    "l=[1,1,4,7,6,3,9,2,7,3,9,6,1,4]\n",
    "set(l)\n",
    "#it will remove duplicate and make it in order"
   ]
  },
  {
   "cell_type": "markdown",
   "id": "9cf5738a",
   "metadata": {},
   "source": [
    "Dictionaries\n",
    "\n",
    "its inside curly backets. it contains key word and valuse against it.We can add additional keys and corrosponding values. They can hold all types of data"
   ]
  },
  {
   "cell_type": "code",
   "execution_count": 42,
   "id": "45c5fada",
   "metadata": {},
   "outputs": [
    {
     "data": {
      "text/plain": [
       "{'key1': 'Values', 'key2': 'values2'}"
      ]
     },
     "execution_count": 42,
     "metadata": {},
     "output_type": "execute_result"
    }
   ],
   "source": [
    "my_dict={'key1':'Values','key2':'values2'}\n",
    "my_dict"
   ]
  },
  {
   "cell_type": "code",
   "execution_count": 44,
   "id": "6d2fbf74",
   "metadata": {},
   "outputs": [
    {
     "data": {
      "text/plain": [
       "dict_keys(['key1', 'key2'])"
      ]
     },
     "execution_count": 44,
     "metadata": {},
     "output_type": "execute_result"
    }
   ],
   "source": [
    "my_dict.keys()#getting key names"
   ]
  },
  {
   "cell_type": "code",
   "execution_count": 46,
   "id": "2bfa74de",
   "metadata": {},
   "outputs": [
    {
     "data": {
      "text/plain": [
       "{'key1': 'Values', 'key2': 'values2', 'Salary': 20000}"
      ]
     },
     "execution_count": 46,
     "metadata": {},
     "output_type": "execute_result"
    }
   ],
   "source": [
    "my_dict.update({\"Salary\":20000}) #adding key and values to the dictonery\n",
    "my_dict"
   ]
  },
  {
   "cell_type": "code",
   "execution_count": 47,
   "id": "02a01604",
   "metadata": {},
   "outputs": [
    {
     "data": {
      "text/plain": [
       "{'key1': 'Values', 'key2': 'values2'}"
      ]
     },
     "execution_count": 47,
     "metadata": {},
     "output_type": "execute_result"
    }
   ],
   "source": [
    "my_dict.pop(\"Salary\")#pop removes the item with specific key name\n",
    "my_dict"
   ]
  },
  {
   "cell_type": "code",
   "execution_count": 49,
   "id": "f599925b",
   "metadata": {},
   "outputs": [
    {
     "data": {
      "text/plain": [
       "{'key2': 'values2'}"
      ]
     },
     "execution_count": 49,
     "metadata": {},
     "output_type": "execute_result"
    }
   ],
   "source": [
    "del my_dict[\"key1\"]#with specific key name it will del that key\n",
    "my_dict"
   ]
  },
  {
   "cell_type": "code",
   "execution_count": 50,
   "id": "d9887964",
   "metadata": {},
   "outputs": [
    {
     "ename": "NameError",
     "evalue": "name 'my_dict' is not defined",
     "output_type": "error",
     "traceback": [
      "\u001b[1;31m---------------------------------------------------------------------------\u001b[0m",
      "\u001b[1;31mNameError\u001b[0m                                 Traceback (most recent call last)",
      "\u001b[1;32m<ipython-input-50-46b1f5c5d573>\u001b[0m in \u001b[0;36m<module>\u001b[1;34m\u001b[0m\n\u001b[0;32m      1\u001b[0m \u001b[1;32mdel\u001b[0m \u001b[0mmy_dict\u001b[0m\u001b[1;31m# it will dilete the dictonery\u001b[0m\u001b[1;33m\u001b[0m\u001b[1;33m\u001b[0m\u001b[0m\n\u001b[1;32m----> 2\u001b[1;33m \u001b[0mmy_dict\u001b[0m\u001b[1;33m\u001b[0m\u001b[1;33m\u001b[0m\u001b[0m\n\u001b[0m",
      "\u001b[1;31mNameError\u001b[0m: name 'my_dict' is not defined"
     ]
    }
   ],
   "source": [
    "del my_dict# it will delete the dictonery \n",
    "my_dict #getting the below error as the dictonery is deleted"
   ]
  },
  {
   "cell_type": "code",
   "execution_count": 49,
   "id": "84e89f8f",
   "metadata": {},
   "outputs": [
    {
     "data": {
      "text/plain": [
       "'values2'"
      ]
     },
     "execution_count": 49,
     "metadata": {},
     "output_type": "execute_result"
    }
   ],
   "source": [
    "#calling value by key\n",
    "my_dict['key2']"
   ]
  },
  {
   "cell_type": "code",
   "execution_count": 50,
   "id": "2f5df47c",
   "metadata": {},
   "outputs": [
    {
     "data": {
      "text/plain": [
       "{'Roll Number': 123,\n",
       " 'Marks': [12, 34, 67],\n",
       " 'Subject': ['Computers', 'Science', 'Maths']}"
      ]
     },
     "execution_count": 50,
     "metadata": {},
     "output_type": "execute_result"
    }
   ],
   "source": [
    "my_dict={'Roll Number':123,'Marks':[12,34,67], 'Subject':['Computers','Science','Maths']}\n",
    "my_dict"
   ]
  },
  {
   "cell_type": "code",
   "execution_count": 51,
   "id": "e4a820f3",
   "metadata": {},
   "outputs": [
    {
     "data": {
      "text/plain": [
       "['Computers', 'Science', 'Maths']"
      ]
     },
     "execution_count": 51,
     "metadata": {},
     "output_type": "execute_result"
    }
   ],
   "source": [
    "#call items from the dictonery\n",
    "my_dict['Subject']"
   ]
  },
  {
   "cell_type": "code",
   "execution_count": 52,
   "id": "24529648",
   "metadata": {},
   "outputs": [
    {
     "data": {
      "text/plain": [
       "'Maths'"
      ]
     },
     "execution_count": 52,
     "metadata": {},
     "output_type": "execute_result"
    }
   ],
   "source": [
    "#calling a specifc index value\n",
    "my_dict['Subject'][2]"
   ]
  },
  {
   "cell_type": "code",
   "execution_count": 53,
   "id": "aa82da76",
   "metadata": {},
   "outputs": [
    {
     "data": {
      "text/plain": [
       "'COMPUTERS'"
      ]
     },
     "execution_count": 53,
     "metadata": {},
     "output_type": "execute_result"
    }
   ],
   "source": [
    "#can then even call methods on that value like changeing the value to upper\n",
    "my_dict['Subject'][0].upper()"
   ]
  },
  {
   "cell_type": "code",
   "execution_count": 54,
   "id": "1bbccc5c",
   "metadata": {},
   "outputs": [
    {
     "data": {
      "text/plain": [
       "[12, 34, 67]"
      ]
     },
     "execution_count": 54,
     "metadata": {},
     "output_type": "execute_result"
    }
   ],
   "source": [
    "#we can effect the value of a key as well \n",
    "my_dict['Marks']"
   ]
  },
  {
   "cell_type": "code",
   "execution_count": 57,
   "id": "a3c2d65a",
   "metadata": {},
   "outputs": [
    {
     "data": {
      "text/plain": [
       "{'Roll Number': 123,\n",
       " 'Marks': [102, 34, 67],\n",
       " 'Subject': ['Computers', 'Science', 'Maths']}"
      ]
     },
     "execution_count": 57,
     "metadata": {},
     "output_type": "execute_result"
    }
   ],
   "source": [
    "#add marks to the fine element\n",
    "my_dict['Marks'][0]=my_dict['Marks'][0]+30\n",
    "my_dict"
   ]
  },
  {
   "cell_type": "code",
   "execution_count": 58,
   "id": "83da8249",
   "metadata": {},
   "outputs": [
    {
     "data": {
      "text/plain": [
       "{'Roll Number': 123,\n",
       " 'Marks': [102, 50, 67],\n",
       " 'Subject': ['Computers', 'Science', 'Maths']}"
      ]
     },
     "execution_count": 58,
     "metadata": {},
     "output_type": "execute_result"
    }
   ],
   "source": [
    "#we can do direct changes like this too\n",
    "my_dict['Marks'][1]=50\n",
    "my_dict"
   ]
  },
  {
   "cell_type": "markdown",
   "id": "a336cc97",
   "metadata": {},
   "source": [
    "Note: Python has built in method of doing a self substraction or addition or multiplication or division. We could also use += or .= for the above statement"
   ]
  },
  {
   "cell_type": "code",
   "execution_count": 59,
   "id": "d0bd831d",
   "metadata": {},
   "outputs": [],
   "source": [
    "my_dict['Marks'][2]+=17"
   ]
  },
  {
   "cell_type": "code",
   "execution_count": 61,
   "id": "c1265bbd",
   "metadata": {},
   "outputs": [
    {
     "data": {
      "text/plain": [
       "{'Roll Number': 123,\n",
       " 'Marks': [102, 50, 84],\n",
       " 'Subject': ['Computers', 'Science', 'Maths']}"
      ]
     },
     "execution_count": 61,
     "metadata": {},
     "output_type": "execute_result"
    }
   ],
   "source": [
    "my_dict"
   ]
  },
  {
   "cell_type": "code",
   "execution_count": 62,
   "id": "f2a4f718",
   "metadata": {},
   "outputs": [
    {
     "data": {
      "text/plain": [
       "{'Roll Number': 123,\n",
       " 'Marks': [62, 50, 84],\n",
       " 'Subject': ['Computers', 'Science', 'Maths']}"
      ]
     },
     "execution_count": 62,
     "metadata": {},
     "output_type": "execute_result"
    }
   ],
   "source": [
    "my_dict['Marks'][0]-=40\n",
    "my_dict"
   ]
  },
  {
   "cell_type": "code",
   "execution_count": 66,
   "id": "fdf1afb1",
   "metadata": {},
   "outputs": [
    {
     "data": {
      "text/plain": [
       "{}"
      ]
     },
     "execution_count": 66,
     "metadata": {},
     "output_type": "execute_result"
    }
   ],
   "source": [
    "#adding value in dictonary\n",
    "d={}\n",
    "d"
   ]
  },
  {
   "cell_type": "code",
   "execution_count": 64,
   "id": "41ede34c",
   "metadata": {},
   "outputs": [
    {
     "data": {
      "text/plain": [
       "{'Animal': 'Dog'}"
      ]
     },
     "execution_count": 64,
     "metadata": {},
     "output_type": "execute_result"
    }
   ],
   "source": [
    "d['Animal']='Dog'\n",
    "d"
   ]
  },
  {
   "cell_type": "code",
   "execution_count": 65,
   "id": "d3c844ca",
   "metadata": {},
   "outputs": [
    {
     "data": {
      "text/plain": [
       "{'Animal': 'Dog', 'answer': [23, 45, 67, 78, 89]}"
      ]
     },
     "execution_count": 65,
     "metadata": {},
     "output_type": "execute_result"
    }
   ],
   "source": [
    "d['answer']=[23,45,67,78,89]\n",
    "d"
   ]
  },
  {
   "cell_type": "markdown",
   "id": "c0d8ebe5",
   "metadata": {},
   "source": [
    "Dictionary Methods\n",
    "\n",
    "There are a few methods we can call on a dictionary. Lets get a quick introduction to a few methods."
   ]
  },
  {
   "cell_type": "code",
   "execution_count": 67,
   "id": "b73e3d2c",
   "metadata": {},
   "outputs": [
    {
     "data": {
      "text/plain": [
       "{'key1': 1, 'key2': 2, 'key3': 3}"
      ]
     },
     "execution_count": 67,
     "metadata": {},
     "output_type": "execute_result"
    }
   ],
   "source": [
    "#creat a dictionary\n",
    "d = {'key1':1,'key2':2,'key3':3}\n",
    "d"
   ]
  },
  {
   "cell_type": "code",
   "execution_count": 69,
   "id": "a1822b0e",
   "metadata": {},
   "outputs": [
    {
     "data": {
      "text/plain": [
       "dict_keys(['key1', 'key2', 'key3'])"
      ]
     },
     "execution_count": 69,
     "metadata": {},
     "output_type": "execute_result"
    }
   ],
   "source": [
    "#method to return a list of all keys\n",
    "d.keys()"
   ]
  },
  {
   "cell_type": "code",
   "execution_count": 70,
   "id": "38c256c6",
   "metadata": {},
   "outputs": [
    {
     "data": {
      "text/plain": [
       "dict_values([1, 2, 3])"
      ]
     },
     "execution_count": 70,
     "metadata": {},
     "output_type": "execute_result"
    }
   ],
   "source": [
    "#method to grab all values\n",
    "d.values()"
   ]
  },
  {
   "cell_type": "code",
   "execution_count": 71,
   "id": "7fb3472a",
   "metadata": {},
   "outputs": [
    {
     "data": {
      "text/plain": [
       "dict_items([('key1', 1), ('key2', 2), ('key3', 3)])"
      ]
     },
     "execution_count": 71,
     "metadata": {},
     "output_type": "execute_result"
    }
   ],
   "source": [
    "#method to return tuples of all items\n",
    "d.items()"
   ]
  },
  {
   "cell_type": "markdown",
   "id": "e37a188a",
   "metadata": {},
   "source": [
    "Branching (if/elif/else)\n",
    "\n",
    "It helps in checking the condition, if a condition is fulfilled or elif condition is fulfulled or else it will give the final output.\n",
    "\n",
    "if condition works in conditions. if a condition is not fulfilled there will be no response, that is way we need the else or elif as if is wrong then the code will go to the else or elif condition and print the output."
   ]
  },
  {
   "cell_type": "code",
   "execution_count": 2,
   "id": "2ef02d1d",
   "metadata": {},
   "outputs": [
    {
     "name": "stdout",
     "output_type": "stream",
     "text": [
      "Kolkata trip\n"
     ]
    }
   ],
   "source": [
    "i = 5000\n",
    "if i < 3000: #when ever we write : it belogs to if function, if the function is true it will print as below.     \n",
    "    print('Puri trip') #why cursur will take 4 spaces which is called indentation. \n",
    "elif i < 4000: # if the if function is false it will come to elif\n",
    "    print('Vizag trip')\n",
    "else: # if the if and elif is not true then by default print as below irrespective of i value\n",
    "    print('Kolkata trip')"
   ]
  },
  {
   "cell_type": "code",
   "execution_count": 38,
   "id": "5bc58de8",
   "metadata": {},
   "outputs": [],
   "source": [
    "if 20 < 10:\n",
    "    print(\"20 is greater than 5\")# it will not give u any output as its false but as there is no elif or else option its not giveing any output."
   ]
  },
  {
   "cell_type": "code",
   "execution_count": 39,
   "id": "8d8f3a6b",
   "metadata": {},
   "outputs": [
    {
     "name": "stdout",
     "output_type": "stream",
     "text": [
      "20 is not greater than 5\n"
     ]
    }
   ],
   "source": [
    "if 20 >80:\n",
    "    print(\"20 is greater than 5\")\n",
    "else:\n",
    "    print(\"20 is not greater than 5\")"
   ]
  },
  {
   "cell_type": "code",
   "execution_count": 40,
   "id": "d694548f",
   "metadata": {},
   "outputs": [
    {
     "name": "stdout",
     "output_type": "stream",
     "text": [
      "X is equal to Y\n"
     ]
    }
   ],
   "source": [
    "x = 450\n",
    "y = 450\n",
    "\n",
    "if x > y:\n",
    "    print(\"X is greater\")\n",
    "elif x < y:\n",
    "    print(\"Y is greater\")\n",
    "else:\n",
    "    print(\"X is equal to Y\")"
   ]
  },
  {
   "cell_type": "code",
   "execution_count": 2,
   "id": "29d5b7e2",
   "metadata": {},
   "outputs": [],
   "source": [
    "i = 91\n",
    "j = 23\n",
    "if j >i:\n",
    "    print(\"Its working\") # it will not give u any output as its false but as there is no elif or else option its not giveing any output."
   ]
  },
  {
   "cell_type": "code",
   "execution_count": 3,
   "id": "6c6e88fd",
   "metadata": {},
   "outputs": [
    {
     "name": "stdout",
     "output_type": "stream",
     "text": [
      "Its not working\n"
     ]
    }
   ],
   "source": [
    "i = 91\n",
    "j = 23\n",
    "if j>i:\n",
    "    print(\"Its working\")\n",
    "else:\n",
    "    print(\"Its not working\")"
   ]
  },
  {
   "cell_type": "code",
   "execution_count": 4,
   "id": "d759aed5",
   "metadata": {},
   "outputs": [
    {
     "name": "stdout",
     "output_type": "stream",
     "text": [
      "B\n"
     ]
    }
   ],
   "source": [
    "a = 2734567 # anpother way of writing if, elif and else function\n",
    "b = 7890654\n",
    "print(\"A\") if a > b else print (\"B\")"
   ]
  },
  {
   "cell_type": "code",
   "execution_count": 7,
   "id": "a0e5ab9f",
   "metadata": {},
   "outputs": [
    {
     "name": "stdout",
     "output_type": "stream",
     "text": [
      "It is equal\n"
     ]
    }
   ],
   "source": [
    "a = 330\n",
    "b = 330\n",
    "\n",
    "print(\"A\") if a > b else print(\"It is equal\") if a==b else print(\"B\")"
   ]
  },
  {
   "cell_type": "code",
   "execution_count": 8,
   "id": "36be856f",
   "metadata": {},
   "outputs": [
    {
     "name": "stdout",
     "output_type": "stream",
     "text": [
      "Both conditions are true\n"
     ]
    }
   ],
   "source": [
    "a = 200\n",
    "b = 33\n",
    "c = 500\n",
    "if a>b and c>a:\n",
    "    print(\"Both conditions are true\")\n",
    "else:\n",
    "    print(\"Both conditions are not True\")"
   ]
  },
  {
   "cell_type": "code",
   "execution_count": 9,
   "id": "7209617e",
   "metadata": {},
   "outputs": [
    {
     "name": "stdout",
     "output_type": "stream",
     "text": [
      "Atleast one of the conditions is true\n"
     ]
    }
   ],
   "source": [
    "a = 2000\n",
    "b = 3000\n",
    "c = 4000\n",
    "if a > b or c > a:# we can put one condition is true by useing Or in if condition\n",
    "    print(\"Atleast one of the conditions is true\")"
   ]
  },
  {
   "cell_type": "code",
   "execution_count": 13,
   "id": "20de6e4a",
   "metadata": {},
   "outputs": [
    {
     "name": "stdout",
     "output_type": "stream",
     "text": [
      "Above 10\n",
      "and also above 20\n"
     ]
    }
   ],
   "source": [
    " x = 40\n",
    "if x < 50: #its called nested if that is one if inside another if\n",
    "    print('Above 10')\n",
    "    if x > 20:\n",
    "        print('and also above 20')\n",
    "    else:\n",
    "        print('its not above 20')\n",
    "else:\n",
    "    print('But not above 30')"
   ]
  },
  {
   "cell_type": "code",
   "execution_count": 14,
   "id": "10253919",
   "metadata": {},
   "outputs": [],
   "source": [
    "a = 23\n",
    "b = 200\n",
    "if b > a:\n",
    "    pass #it will not do anything "
   ]
  },
  {
   "cell_type": "code",
   "execution_count": 16,
   "id": "d342435f",
   "metadata": {},
   "outputs": [
    {
     "name": "stdout",
     "output_type": "stream",
     "text": [
      "i is 15\n"
     ]
    }
   ],
   "source": [
    "i = 15\n",
    "if (i==10):\n",
    "    print (\"i is 10\")\n",
    "elif (i == 15):\n",
    "    print (\"i is 15\")\n",
    "elif (i == 20):\n",
    "    print (\"i is 20\")\n",
    "else:\n",
    "    print(\"i is not here\")"
   ]
  },
  {
   "cell_type": "code",
   "execution_count": 21,
   "id": "6f6cfcab",
   "metadata": {},
   "outputs": [
    {
     "name": "stdout",
     "output_type": "stream",
     "text": [
      "its not 20\n"
     ]
    }
   ],
   "source": [
    "i = 22\n",
    "j = 21\n",
    "k = 20\n",
    "#nested ifs\n",
    "if i > j:\n",
    "    if j > k:\n",
    "        if k == '20': # as k = 20 is intr data type where as its string type '20' thaths why its not 20\n",
    "            print (\"its 20\")\n",
    "        else:\n",
    "            print (\"its not 20\")\n",
    "    else:\n",
    "        print(\"K\")\n",
    "else:\n",
    "    print (\"something\")"
   ]
  },
  {
   "cell_type": "code",
   "execution_count": 57,
   "id": "4c236e9d",
   "metadata": {},
   "outputs": [
    {
     "name": "stdout",
     "output_type": "stream",
     "text": [
      "Else part of secound if is running\n"
     ]
    }
   ],
   "source": [
    "if 10 > 5:\n",
    "    if 20 > 50:\n",
    "        print(\"Secound if is running\")\n",
    "    else:\n",
    "        print(\"Else part of secound if is running\")\n",
    "else:\n",
    "    print(\"Else part of first if is running\")"
   ]
  },
  {
   "cell_type": "markdown",
   "id": "c1fcd75a",
   "metadata": {},
   "source": [
    "Loops\n",
    "\n",
    "Its a sequeance or iteration of elements of a list,tuple, string. Loop will continue until it reached the last item in the sequance. "
   ]
  },
  {
   "cell_type": "markdown",
   "id": "468de306",
   "metadata": {},
   "source": [
    "For Loop\n",
    "\n",
    "The for loop can help us in if/elif/else option in sorting the data as per our requirments.\n",
    "The body of the for loop is seperated from the rest of the code using indentation."
   ]
  },
  {
   "cell_type": "code",
   "execution_count": 23,
   "id": "bac65032",
   "metadata": {},
   "outputs": [
    {
     "data": {
      "text/plain": [
       "['Bangalore', 'Nodia', 'Mumbai', 'Delhi', 'Hydrabad', 'Chennai']"
      ]
     },
     "execution_count": 23,
     "metadata": {},
     "output_type": "execute_result"
    }
   ],
   "source": [
    "location = ['Bangalore','Nodia','Mumbai','Delhi','Hydrabad','Chennai']\n",
    "location"
   ]
  },
  {
   "cell_type": "code",
   "execution_count": 22,
   "id": "9da8abad",
   "metadata": {},
   "outputs": [
    {
     "name": "stdout",
     "output_type": "stream",
     "text": [
      "Bangalore\n",
      "Nodia\n",
      "Mumbai\n",
      "Delhi\n",
      "Hydrabad\n",
      "Chennai\n"
     ]
    }
   ],
   "source": [
    "#string data\n",
    "location = ['Bangalore','Nodia','Mumbai','Delhi','Hydrabad','Chennai']\n",
    "\n",
    "for i in location:# for every i or data in the location in the string\n",
    "    print (i) #print i or data\n",
    "    #thats why it will print i or data one by one"
   ]
  },
  {
   "cell_type": "code",
   "execution_count": 24,
   "id": "76ef88bd",
   "metadata": {},
   "outputs": [
    {
     "name": "stdout",
     "output_type": "stream",
     "text": [
      "6000\n",
      "7000\n"
     ]
    }
   ],
   "source": [
    "salary = [2000,3000,4000,5000,6000,7000]\n",
    "\n",
    "for val in salary:# for every value in salary\n",
    "    if val>5500:#if value is not greater then 5500 then it will go back to next item\n",
    "        print (val)#until it reaches the condition then it will print the value"
   ]
  },
  {
   "cell_type": "markdown",
   "id": "26dca052",
   "metadata": {},
   "source": [
    "List Comprehension\n",
    "\n",
    "List comprehension is a shorter syntax when you wnat to creat a new list based on the values of an existing list. When we put the logic inside a list [  ] its called list comprehension. The result will come in list formate [  ]"
   ]
  },
  {
   "cell_type": "code",
   "execution_count": 25,
   "id": "76afdd1f",
   "metadata": {},
   "outputs": [
    {
     "data": {
      "text/plain": [
       "[6000, 7000]"
      ]
     },
     "execution_count": 25,
     "metadata": {},
     "output_type": "execute_result"
    }
   ],
   "source": [
    "sal = [val for val in salary if val>5500]\n",
    "sal # for every value in salary if value is greater then 5500 print it"
   ]
  },
  {
   "cell_type": "code",
   "execution_count": 30,
   "id": "8b9929d0",
   "metadata": {},
   "outputs": [
    {
     "name": "stdout",
     "output_type": "stream",
     "text": [
      "Income till date = > 100\n",
      "Income till date = > 300\n",
      "Income till date = > 600\n",
      "Income till date = > 1000\n",
      "Income till date = > 1500\n",
      "Income till date = > 2079\n",
      "Income till date = > 2969\n",
      "The total weekly income is === >> 2969\n"
     ]
    }
   ],
   "source": [
    "#list of numbers\n",
    "daily_sales = [100,200,300,400,500,579,890]\n",
    "#variable to store the sum\n",
    "income_till_date = 0\n",
    "\n",
    "#iterate over the list\n",
    "for val in daily_sales:\n",
    "    income_till_date = income_till_date + val\n",
    "    print(\"Income till date = >\",income_till_date)\n",
    "#total income\n",
    "print(\"The total weekly income is === >>\", income_till_date)\n",
    "#as the print is outside the for loop thats why its printing once"
   ]
  },
  {
   "cell_type": "code",
   "execution_count": 31,
   "id": "f3a9857f",
   "metadata": {},
   "outputs": [
    {
     "name": "stdout",
     "output_type": "stream",
     "text": [
      "1\n",
      "2\n",
      "3\n",
      "4\n",
      "No items Left\n"
     ]
    }
   ],
   "source": [
    "d = [1,2,3,4]\n",
    "\n",
    "for i in d:\n",
    "    print (i)\n",
    "else:\n",
    "    print(\"No items Left\")"
   ]
  },
  {
   "cell_type": "code",
   "execution_count": null,
   "id": "8747ee74",
   "metadata": {},
   "outputs": [],
   "source": [
    "While loop\n",
    "\n",
    "While loop is executed when a condition is met."
   ]
  },
  {
   "cell_type": "code",
   "execution_count": 34,
   "id": "e003bb81",
   "metadata": {},
   "outputs": [
    {
     "name": "stdout",
     "output_type": "stream",
     "text": [
      "1\n",
      "3\n",
      "6\n",
      "10\n",
      "15\n",
      "21\n",
      "28\n",
      "36\n",
      "45\n",
      "55\n",
      "The Sum is  55\n"
     ]
    }
   ],
   "source": [
    "n = 10\n",
    "# initialize sum and counter\n",
    "sum = 0\n",
    "i = 1\n",
    "while i <= n:\n",
    "    sum = sum + i\n",
    "    i = i + 1 # update counter\n",
    "    print(sum)\n",
    "print(\"The Sum is \",sum)#print the sum"
   ]
  },
  {
   "cell_type": "markdown",
   "id": "486e9eb5",
   "metadata": {},
   "source": [
    "for loop = if you know how many times to execute the code then use for loop\n",
    "\n",
    "while loop = if you dont know how many data you have so that you can execute the code then we will use while loop"
   ]
  },
  {
   "cell_type": "code",
   "execution_count": null,
   "id": "efcc2ec4",
   "metadata": {},
   "outputs": [],
   "source": []
  },
  {
   "cell_type": "code",
   "execution_count": 41,
   "id": "ea9c9030",
   "metadata": {},
   "outputs": [
    {
     "name": "stdout",
     "output_type": "stream",
     "text": [
      "0\n",
      "7\n",
      "14\n",
      "21\n",
      "28\n",
      "35\n",
      "42\n",
      "49\n",
      "56\n",
      "63\n"
     ]
    }
   ],
   "source": [
    "#puting range in for loop\n",
    "for i in range(0,10):\n",
    "    print(i*7)"
   ]
  },
  {
   "cell_type": "code",
   "execution_count": 1,
   "id": "9d90868e",
   "metadata": {},
   "outputs": [
    {
     "name": "stdout",
     "output_type": "stream",
     "text": [
      "Value is less than 5\n",
      "Value is less than 5\n",
      "Value is less than 5\n",
      "Value is less than 5\n",
      "Value is equal to 5\n",
      "Value is greater than 5\n",
      "Value is greater than 5\n",
      "Value is greater than 5\n",
      "Value is greater than 5\n"
     ]
    }
   ],
   "source": [
    "x = [1,2,3,4,5,6,7,8,9]\n",
    "\n",
    "for val in x:\n",
    "    if val > 5:\n",
    "        print(\"Value is greater than 5\")\n",
    "    elif val < 5:\n",
    "        print(\"Value is less than 5\")\n",
    "    else:\n",
    "        print(\"Value is equal to 5\")"
   ]
  },
  {
   "cell_type": "markdown",
   "id": "8f2cb4fb",
   "metadata": {},
   "source": [
    "Break and Continue\n",
    "\n",
    "the break statement terminates the loop containing it. it will check the condition until its fulfilled then it will break or stop there and not check the data anyfurther."
   ]
  },
  {
   "cell_type": "code",
   "execution_count": 2,
   "id": "cf9ea936",
   "metadata": {},
   "outputs": [
    {
     "name": "stdout",
     "output_type": "stream",
     "text": [
      "Delhi\n",
      "Hydrabad\n",
      "Chennai\n"
     ]
    }
   ],
   "source": [
    "#use of break statement inside the loop\n",
    "city=['Delhi','Hydrabad','Chennai','Nodia','Indor','Hydrabad']\n",
    "\n",
    "for val in city:\n",
    "    if val == \"Nodia\":\n",
    "        break\n",
    "    print(val)"
   ]
  },
  {
   "cell_type": "code",
   "execution_count": 3,
   "id": "89cbd0b5",
   "metadata": {},
   "outputs": [
    {
     "name": "stdout",
     "output_type": "stream",
     "text": [
      "1000\n",
      "3000\n",
      "5000\n"
     ]
    }
   ],
   "source": [
    "salary = [1000,3000,5000,6000,7000]\n",
    "\n",
    "for val in salary:\n",
    "    if val > 5000:\n",
    "        break\n",
    "    print(val)"
   ]
  },
  {
   "cell_type": "markdown",
   "id": "c877ae49",
   "metadata": {},
   "source": [
    "continue \n",
    "\n",
    "continue statement is used to skip the data which matches the condition and will continue checking all the data. it can be used to skip a particular data."
   ]
  },
  {
   "cell_type": "code",
   "execution_count": 4,
   "id": "73047675",
   "metadata": {},
   "outputs": [
    {
     "name": "stdout",
     "output_type": "stream",
     "text": [
      "Delhi\n",
      "Hydrabad\n",
      "Chennai\n",
      "Indor\n",
      "Hydrabad\n"
     ]
    }
   ],
   "source": [
    "for val in city: #contnue statement inside a loop\n",
    "    if val == \"Nodia\":\n",
    "        continue\n",
    "    print(val)"
   ]
  },
  {
   "cell_type": "code",
   "execution_count": 5,
   "id": "5fb28e4b",
   "metadata": {},
   "outputs": [
    {
     "name": "stdout",
     "output_type": "stream",
     "text": [
      "1000\n",
      "3000\n",
      "5000\n"
     ]
    }
   ],
   "source": [
    "for val in salary:\n",
    "    if val > 5000:\n",
    "        continue\n",
    "    print(val)"
   ]
  },
  {
   "cell_type": "markdown",
   "id": "872c5768",
   "metadata": {},
   "source": [
    "the Range function\n",
    "\n",
    "we can generate a sequance of numbers using range() function. Example range(10) will generate numbers from 0 to 9 (10 numbers). its dosenot store all the values in memory.\n",
    "\n",
    "range(start,end,step)"
   ]
  },
  {
   "cell_type": "code",
   "execution_count": 7,
   "id": "dcef0161",
   "metadata": {},
   "outputs": [
    {
     "name": "stdout",
     "output_type": "stream",
     "text": [
      "range(0, 10)\n"
     ]
    }
   ],
   "source": [
    "print(range(10))# if you give one parapeter python will start from 0 and take 10 as end"
   ]
  },
  {
   "cell_type": "code",
   "execution_count": 8,
   "id": "74a56f4f",
   "metadata": {},
   "outputs": [
    {
     "name": "stdout",
     "output_type": "stream",
     "text": [
      "range(2, 30)\n"
     ]
    }
   ],
   "source": [
    "print(range(2,30))"
   ]
  },
  {
   "cell_type": "code",
   "execution_count": 15,
   "id": "eca7276f",
   "metadata": {},
   "outputs": [
    {
     "name": "stdout",
     "output_type": "stream",
     "text": [
      "range(2, 30, 5)\n"
     ]
    }
   ],
   "source": [
    "print(range(2,30,5))"
   ]
  },
  {
   "cell_type": "code",
   "execution_count": 10,
   "id": "db2d4efd",
   "metadata": {},
   "outputs": [
    {
     "name": "stdout",
     "output_type": "stream",
     "text": [
      "[0, 1, 2, 3, 4, 5, 6, 7, 8, 9]\n"
     ]
    }
   ],
   "source": [
    "print(list(range(10)))#convert the range in list"
   ]
  },
  {
   "cell_type": "code",
   "execution_count": 11,
   "id": "63444a4a",
   "metadata": {},
   "outputs": [
    {
     "name": "stdout",
     "output_type": "stream",
     "text": [
      "[2, 3, 4, 5, 6, 7, 8, 9, 10, 11, 12, 13, 14, 15, 16, 17, 18, 19, 20, 21, 22, 23, 24, 25, 26, 27, 28, 29]\n"
     ]
    }
   ],
   "source": [
    "print(list(range(2,30)))# the start point 2 is included and end number 30 is excluded"
   ]
  },
  {
   "cell_type": "code",
   "execution_count": 14,
   "id": "25f61450",
   "metadata": {},
   "outputs": [
    {
     "name": "stdout",
     "output_type": "stream",
     "text": [
      "[2, 7, 12, 17, 22, 27]\n"
     ]
    }
   ],
   "source": [
    "print(list(range(2,30,5)))# the step is used to skip that many unit 5 of data inbetween the start and end range \n",
    "# when we dont put the skip value python by defult takes it as 1 therefore the sequance of data is generated\n",
    "#the end element is not taken in range"
   ]
  },
  {
   "cell_type": "code",
   "execution_count": 16,
   "id": "e0236326",
   "metadata": {},
   "outputs": [
    {
     "name": "stdout",
     "output_type": "stream",
     "text": [
      "[30, 25, 20, 15, 10, 5]\n"
     ]
    }
   ],
   "source": [
    "print(list(range(30,2,-5)))#for getting a reverse of data"
   ]
  },
  {
   "cell_type": "code",
   "execution_count": 18,
   "id": "6425446b",
   "metadata": {},
   "outputs": [
    {
     "name": "stdout",
     "output_type": "stream",
     "text": [
      "[0, 1, 2, 3, 4, 5, 6, 7, 8, 9, 10, 11, 12, 13, 14, 15, 16, 17, 18, 19]\n"
     ]
    }
   ],
   "source": [
    "number = range(0,20)# for putting a range in list format\n",
    "print(list(number))"
   ]
  },
  {
   "cell_type": "code",
   "execution_count": 20,
   "id": "11ab4b44",
   "metadata": {},
   "outputs": [
    {
     "name": "stdout",
     "output_type": "stream",
     "text": [
      "0\n",
      "1\n",
      "2\n",
      "3\n",
      "4\n",
      "5\n",
      "6\n",
      "7\n",
      "8\n",
      "9\n",
      "10\n",
      "11\n",
      "12\n",
      "13\n",
      "14\n",
      "15\n",
      "16\n",
      "17\n",
      "18\n",
      "19\n"
     ]
    }
   ],
   "source": [
    "number = range(0,20)# for putting a range in for loop\n",
    "for val in number:\n",
    "    print(val)"
   ]
  },
  {
   "cell_type": "markdown",
   "id": "b5f70e36",
   "metadata": {},
   "source": [
    "string indexing"
   ]
  },
  {
   "cell_type": "code",
   "execution_count": 21,
   "id": "b8de7bf9",
   "metadata": {},
   "outputs": [
    {
     "data": {
      "text/plain": [
       "'Hello World'"
      ]
     },
     "execution_count": 21,
     "metadata": {},
     "output_type": "execute_result"
    }
   ],
   "source": [
    "s = \"Hello World\"\n",
    "s"
   ]
  },
  {
   "cell_type": "code",
   "execution_count": 22,
   "id": "c7350f60",
   "metadata": {},
   "outputs": [
    {
     "data": {
      "text/plain": [
       "'H'"
      ]
     },
     "execution_count": 22,
     "metadata": {},
     "output_type": "execute_result"
    }
   ],
   "source": [
    "s[0]#python indexes the character just like list even the space is considered in inxing of the string charaters"
   ]
  },
  {
   "cell_type": "code",
   "execution_count": 23,
   "id": "46524575",
   "metadata": {},
   "outputs": [
    {
     "data": {
      "text/plain": [
       "'ell'"
      ]
     },
     "execution_count": 23,
     "metadata": {},
     "output_type": "execute_result"
    }
   ],
   "source": [
    "s[1:4]# similar to list it will not show the last element"
   ]
  },
  {
   "cell_type": "code",
   "execution_count": 24,
   "id": "7ae981e8",
   "metadata": {},
   "outputs": [
    {
     "data": {
      "text/plain": [
       "'Hello World'"
      ]
     },
     "execution_count": 24,
     "metadata": {},
     "output_type": "execute_result"
    }
   ],
   "source": [
    "s[0:]# here we have left the end value empty it willtake data till last element"
   ]
  },
  {
   "cell_type": "code",
   "execution_count": 25,
   "id": "ee527c3d",
   "metadata": {},
   "outputs": [
    {
     "data": {
      "text/plain": [
       "'Hel'"
      ]
     },
     "execution_count": 25,
     "metadata": {},
     "output_type": "execute_result"
    }
   ],
   "source": [
    "s[:3]# from zero to secound element as the 3rd point or end point is always excluded"
   ]
  },
  {
   "cell_type": "code",
   "execution_count": 26,
   "id": "04f65e88",
   "metadata": {},
   "outputs": [
    {
     "data": {
      "text/plain": [
       "'World'"
      ]
     },
     "execution_count": 26,
     "metadata": {},
     "output_type": "execute_result"
    }
   ],
   "source": [
    "s[-5:]#we can do negative slicing too"
   ]
  },
  {
   "cell_type": "code",
   "execution_count": 27,
   "id": "e6b803ed",
   "metadata": {},
   "outputs": [
    {
     "data": {
      "text/plain": [
       "'HloWrd'"
      ]
     },
     "execution_count": 27,
     "metadata": {},
     "output_type": "execute_result"
    }
   ],
   "source": [
    "s[::2]#we are using step to exclude 2nd element"
   ]
  },
  {
   "cell_type": "code",
   "execution_count": 28,
   "id": "9361ecb8",
   "metadata": {},
   "outputs": [
    {
     "data": {
      "text/plain": [
       "'drWolH'"
      ]
     },
     "execution_count": 28,
     "metadata": {},
     "output_type": "execute_result"
    }
   ],
   "source": [
    "s[::-2]#we have done the negative to exclude 2nd elements"
   ]
  },
  {
   "cell_type": "markdown",
   "id": "b934d4b9",
   "metadata": {},
   "source": [
    "Function\n",
    "\n",
    "Function will be one of our building blocks when we construct larger amount of code to solve problems.\n",
    "\n",
    "function allows us to reuse the code instead of writing the code again and again. \n",
    "\n",
    "it helps in \n",
    "1. reduing the lines od code\n",
    "2. programe looks good\n",
    "\n",
    "\n",
    "Def Statments\n",
    "\n",
    "Now let us learn how to build a function and what is the syntax in python\n",
    "the syntexfor def statements will be in the following form:\n",
    "    def name of the function (arg1,arg2, etc):\n",
    "        \"'this is where the function document string '\" #python will not execute this as its inside tripil quote\n",
    "        "
   ]
  },
  {
   "cell_type": "code",
   "execution_count": 30,
   "id": "168273fa",
   "metadata": {},
   "outputs": [],
   "source": [
    "def say_hello(): #this is basic without the aarguments \n",
    "    print('This is working') #as we have not called the function it will show anything in response"
   ]
  },
  {
   "cell_type": "code",
   "execution_count": 31,
   "id": "42f2e979",
   "metadata": {},
   "outputs": [
    {
     "name": "stdout",
     "output_type": "stream",
     "text": [
      "This is working\n"
     ]
    }
   ],
   "source": [
    "#call the function\n",
    "say_hello()"
   ]
  },
  {
   "cell_type": "code",
   "execution_count": 35,
   "id": "c4bf2ae8",
   "metadata": {},
   "outputs": [
    {
     "name": "stdout",
     "output_type": "stream",
     "text": [
      "Hello Laxmi\n",
      "Hello Laxmi\n"
     ]
    }
   ],
   "source": [
    "def greeting(name): # we have given one argument\n",
    "   # print('Hello', name) # both the formate is valid and we are asking the function to add Hello infront of name\n",
    "    print('Hello %s'%name)\n",
    "greeting('Laxmi')#we have inserted one data laxmi to run the data"
   ]
  },
  {
   "cell_type": "code",
   "execution_count": 36,
   "id": "ceb07070",
   "metadata": {},
   "outputs": [
    {
     "data": {
      "text/plain": [
       "60"
      ]
     },
     "execution_count": 36,
     "metadata": {},
     "output_type": "execute_result"
    }
   ],
   "source": [
    "def add_num(num1,num2,num3):# we have 3 arguments\n",
    "    return num1+num2+num3 # return will give me the return the result\n",
    "\n",
    "add_num(10,20,30)# we have three data"
   ]
  },
  {
   "cell_type": "code",
   "execution_count": 39,
   "id": "2cd5dd6a",
   "metadata": {},
   "outputs": [
    {
     "data": {
      "text/plain": [
       "60"
      ]
     },
     "execution_count": 39,
     "metadata": {},
     "output_type": "execute_result"
    }
   ],
   "source": [
    "# we can save the data by useing return and can be saved it against a variable like result.\n",
    "result=add_num(10,20,30)\n",
    "result"
   ]
  },
  {
   "cell_type": "code",
   "execution_count": 40,
   "id": "047510dc",
   "metadata": {},
   "outputs": [
    {
     "name": "stdout",
     "output_type": "stream",
     "text": [
      "onetwothree\n"
     ]
    }
   ],
   "source": [
    "print(add_num('one','two','three'))# can call the function for any type of data"
   ]
  },
  {
   "cell_type": "code",
   "execution_count": 43,
   "id": "f69eb9bf",
   "metadata": {},
   "outputs": [
    {
     "name": "stdout",
     "output_type": "stream",
     "text": [
      "Squared : 4\n",
      "It is not even number : 3\n",
      "Squared : 16\n",
      "It is not even number : 5\n",
      "Squared : 36\n",
      "It is not even number : 7\n",
      "Squared : 64\n",
      "It is not even number : 9\n",
      "Squared : 100\n",
      "It is not even number : 11\n",
      "Squared : 144\n",
      "It is not even number : 13\n",
      "Squared : 196\n"
     ]
    }
   ],
   "source": [
    "#we are combining for loop, range\n",
    "def sqrt_num(number):\n",
    "    for n in range(2,number):\n",
    "        if n % 2 == 0:\n",
    "            print('Squared :',n**2)\n",
    "        else:\n",
    "            print('It is not even number :' ,n)\n",
    "sqrt_num(15)"
   ]
  },
  {
   "cell_type": "markdown",
   "id": "5d5ab725",
   "metadata": {},
   "source": [
    "Lambda Function\n",
    "\n",
    "Its a one time use function. We dont need to define it as itself is a built in function of python. its use for one time simple function cannot be used in complex function"
   ]
  },
  {
   "cell_type": "code",
   "execution_count": 45,
   "id": "6e7e10df",
   "metadata": {},
   "outputs": [
    {
     "name": "stdout",
     "output_type": "stream",
     "text": [
      "80\n"
     ]
    }
   ],
   "source": [
    "x = lambda Y : Y+30 # its a one argment \n",
    "print(x(50))"
   ]
  },
  {
   "cell_type": "code",
   "execution_count": 46,
   "id": "1c035782",
   "metadata": {},
   "outputs": [
    {
     "name": "stdout",
     "output_type": "stream",
     "text": [
      "300\n"
     ]
    }
   ],
   "source": [
    "x = lambda a,b: a*b # its a multiple argument or two set of data\n",
    "print(x(15,20))"
   ]
  },
  {
   "cell_type": "code",
   "execution_count": 47,
   "id": "3f7a2415",
   "metadata": {},
   "outputs": [
    {
     "name": "stdout",
     "output_type": "stream",
     "text": [
      "10.5\n"
     ]
    }
   ],
   "source": [
    "x= lambda a,b,c: a+b/c\n",
    "print(x(10,20,40))"
   ]
  },
  {
   "cell_type": "code",
   "execution_count": 48,
   "id": "41d5f7f4",
   "metadata": {
    "scrolled": true
   },
   "outputs": [
    {
     "name": "stdout",
     "output_type": "stream",
     "text": [
      "My args: - India\n",
      "My args: - 56\n",
      "My args: - Bangalore\n",
      "My args: - 45.5\n",
      "My args: - 23\n"
     ]
    }
   ],
   "source": [
    "#when we are not sure about how many data or arrguments we are dealing with.\n",
    "# we use *args in such case\n",
    "\n",
    "def my_fun(*args):\n",
    "    for i in args:\n",
    "        print(\"My args: -\",i)\n",
    "my_fun(\"India\", 56,\"Bangalore\",45.5,23)"
   ]
  },
  {
   "cell_type": "code",
   "execution_count": 1,
   "id": "0eeb92a7",
   "metadata": {},
   "outputs": [
    {
     "name": "stdout",
     "output_type": "stream",
     "text": [
      "Month ['January', 'Fabruary', 'March', 'April', 'May', 'June', 'July', 'August', 'September', 'October', 'November', 'December']\n",
      "Days [1, 2, 3, 4, 5, 6, 7, 8, 9, 10, 11, 12]\n"
     ]
    }
   ],
   "source": [
    "# we use **kwargs when we take dictionary data i.e keys and values\n",
    "# .key will give only key\n",
    "# .value will give only value\n",
    "# .items will give key and value\n",
    "def my_day(**kwargs):\n",
    "    for key,value in kwargs.items():\n",
    "        print(key,value)\n",
    "my_day(Month =['January','Fabruary','March','April','May','June','July','August','September','October','November','December'],Days =[1,2,3,4,5,6,7,8,9,10,11,12])"
   ]
  },
  {
   "cell_type": "code",
   "execution_count": null,
   "id": "d225c5f1",
   "metadata": {},
   "outputs": [],
   "source": [
    "MAP\n",
    "\n",
    "Its a function that takes in two arguments.\n",
    "\n",
    "1. A function or def \n",
    "2. A sequence iterable or data\n",
    "\n",
    "Ex: map(function,data)\n",
    "\n"
   ]
  },
  {
   "cell_type": "code",
   "execution_count": 6,
   "id": "9ee97204",
   "metadata": {},
   "outputs": [
    {
     "data": {
      "text/plain": [
       "[35, 35, None, None, 35, 35, 35]"
      ]
     },
     "execution_count": 6,
     "metadata": {},
     "output_type": "execute_result"
    }
   ],
   "source": [
    "# this is the function\n",
    "def total_marks(marks):\n",
    "    if marks == 30:\n",
    "        return (marks + 5)\n",
    "    if marks == 32:\n",
    "        return (marks + 3)\n",
    "\n",
    "#this is the data\n",
    "Score = [30, 32, 33,35, 30, 30, 32]\n",
    "\n",
    "total = list(map(total_marks,Score))#the result will come in list formate\n",
    "total"
   ]
  },
  {
   "cell_type": "code",
   "execution_count": null,
   "id": "47207ce0",
   "metadata": {},
   "outputs": [],
   "source": [
    "f_temps =list(map(fahrenhit,temp))\n",
    "\n"
   ]
  },
  {
   "cell_type": "markdown",
   "id": "b34dad4c",
   "metadata": {},
   "source": [
    "Filter\n",
    "\n",
    "The function filter needs function and list. This function filters out all the dats for which function is True."
   ]
  },
  {
   "cell_type": "code",
   "execution_count": 11,
   "id": "819fcc37",
   "metadata": {},
   "outputs": [
    {
     "data": {
      "text/plain": [
       "[0, 2, 4, 6, 8, 10, 12, 14, 16, 18, 20, 22, 24, 26, 28, 30, 32, 34, 36, 38]"
      ]
     },
     "execution_count": 11,
     "metadata": {},
     "output_type": "execute_result"
    }
   ],
   "source": [
    "#first lets make a function\n",
    "def even_check(num):\n",
    "    if num%2 == 0:\n",
    "        return True\n",
    "#secound is the list\n",
    "num = range(40)\n",
    "\n",
    "#lets apply the filter function on the data \n",
    "list(filter(even_check,num))"
   ]
  },
  {
   "cell_type": "code",
   "execution_count": 13,
   "id": "49d15a75",
   "metadata": {},
   "outputs": [
    {
     "data": {
      "text/plain": [
       "[0, 2, 4, 6, 8, 10, 12, 14, 16, 18, 20, 22, 24, 26, 28, 30, 32, 34, 36, 38]"
      ]
     },
     "execution_count": 13,
     "metadata": {},
     "output_type": "execute_result"
    }
   ],
   "source": [
    "#the same thing can be done by useing lambda function too\n",
    "list(filter(lambda x: x%2 == 0,lst))"
   ]
  },
  {
   "cell_type": "code",
   "execution_count": null,
   "id": "65514f49",
   "metadata": {},
   "outputs": [],
   "source": [
    "Files \n",
    "\n",
    "We can use the files in our computer in python too. "
   ]
  },
  {
   "cell_type": "code",
   "execution_count": 10,
   "id": "b14d8c59",
   "metadata": {},
   "outputs": [
    {
     "ename": "SyntaxError",
     "evalue": "invalid syntax (<ipython-input-10-deadd648dc04>, line 3)",
     "output_type": "error",
     "traceback": [
      "\u001b[1;36m  File \u001b[1;32m\"<ipython-input-10-deadd648dc04>\"\u001b[1;36m, line \u001b[1;32m3\u001b[0m\n\u001b[1;33m    Hello, this is a quick test file\u001b[0m\n\u001b[1;37m                     ^\u001b[0m\n\u001b[1;31mSyntaxError\u001b[0m\u001b[1;31m:\u001b[0m invalid syntax\n"
     ]
    }
   ],
   "source": [
    "# creating tst file in python and writing in it\n",
    "%%writefile untitled.txt\n",
    "Hello, this is a quick test file\n",
    "# this command is running fine in the new notebook"
   ]
  },
  {
   "cell_type": "markdown",
   "id": "e07ae724",
   "metadata": {},
   "source": [
    "Python Opening a file\n",
    "\n",
    "We can open the file by useing Open() function. "
   ]
  },
  {
   "cell_type": "code",
   "execution_count": 13,
   "id": "30a5aaaf",
   "metadata": {},
   "outputs": [],
   "source": [
    "#open the text.txt we made earlier\n",
    "my_file = open('untitled.txt')"
   ]
  },
  {
   "cell_type": "code",
   "execution_count": 14,
   "id": "1f624cf8",
   "metadata": {},
   "outputs": [
    {
     "data": {
      "text/plain": [
       "'Hello, this is a quick test file\\n'"
      ]
     },
     "execution_count": 14,
     "metadata": {},
     "output_type": "execute_result"
    }
   ],
   "source": [
    "#we can now read the file\n",
    "my_file.read()"
   ]
  },
  {
   "cell_type": "code",
   "execution_count": 15,
   "id": "ee85f49b",
   "metadata": {},
   "outputs": [
    {
     "data": {
      "text/plain": [
       "''"
      ]
     },
     "execution_count": 15,
     "metadata": {},
     "output_type": "execute_result"
    }
   ],
   "source": [
    "#But waht happens if we try to read again\n",
    "my_file.read()"
   ]
  },
  {
   "cell_type": "markdown",
   "id": "aa781634",
   "metadata": {},
   "source": [
    "this happens because you can imagine the reading \"cursor\" is at the end of the file after having read it. so there is nothing left to read. we can rest the cursor like this:"
   ]
  },
  {
   "cell_type": "code",
   "execution_count": 16,
   "id": "fec08a4e",
   "metadata": {},
   "outputs": [
    {
     "data": {
      "text/plain": [
       "0"
      ]
     },
     "execution_count": 16,
     "metadata": {},
     "output_type": "execute_result"
    }
   ],
   "source": [
    "#seek to the start of the file(index 0)\n",
    "my_file.seek(0)"
   ]
  },
  {
   "cell_type": "code",
   "execution_count": 17,
   "id": "90433a2d",
   "metadata": {},
   "outputs": [
    {
     "data": {
      "text/plain": [
       "'Hello, this is a quick test file\\n'"
      ]
     },
     "execution_count": 17,
     "metadata": {},
     "output_type": "execute_result"
    }
   ],
   "source": [
    "#now read again\n",
    "my_file.read()"
   ]
  },
  {
   "cell_type": "code",
   "execution_count": null,
   "id": "053079ef",
   "metadata": {},
   "outputs": [],
   "source": [
    "#we can rest it to any index number\n",
    "my_file.seek(6)"
   ]
  },
  {
   "cell_type": "markdown",
   "id": "a652fee5",
   "metadata": {},
   "source": [
    "In order to not have to reset every time, we can also use the readlines method. Use caution with large files, since everything will be held in memory. we will learn how to iterate over large files later in the course "
   ]
  },
  {
   "cell_type": "code",
   "execution_count": 18,
   "id": "9a1acdae",
   "metadata": {},
   "outputs": [
    {
     "data": {
      "text/plain": [
       "0"
      ]
     },
     "execution_count": 18,
     "metadata": {},
     "output_type": "execute_result"
    }
   ],
   "source": [
    "#seek to the start of the file (index 0)\n",
    "my_file.seek(0)"
   ]
  },
  {
   "cell_type": "code",
   "execution_count": 19,
   "id": "43b939f4",
   "metadata": {},
   "outputs": [
    {
     "data": {
      "text/plain": [
       "['Hello, this is a quick test file\\n']"
      ]
     },
     "execution_count": 19,
     "metadata": {},
     "output_type": "execute_result"
    }
   ],
   "source": [
    "#readlines show the data inside a list.\n",
    "my_file.readlines()"
   ]
  },
  {
   "cell_type": "code",
   "execution_count": 20,
   "id": "8edd0da9",
   "metadata": {},
   "outputs": [],
   "source": [
    "my_file.close()"
   ]
  },
  {
   "cell_type": "markdown",
   "id": "bbe57bbe",
   "metadata": {},
   "source": [
    "So we have to open the file, read the file and close the file. Until we close the file no one can read or open the file."
   ]
  },
  {
   "cell_type": "markdown",
   "id": "e3d4d698",
   "metadata": {},
   "source": [
    "Writing to a file\n",
    "\n",
    "We can open the file, but python will open it in read mode only. Thants why we need to open the file in the write mode as shown below."
   ]
  },
  {
   "cell_type": "code",
   "execution_count": 21,
   "id": "b637837f",
   "metadata": {},
   "outputs": [],
   "source": [
    "#opening the file in write mode, w stands for write mode. \n",
    "my_file = open('untitled.tst','w') # we can use w= too\n",
    "#we cannot read in write mode and we have to write into the file too"
   ]
  },
  {
   "cell_type": "code",
   "execution_count": 22,
   "id": "8a2de1e6",
   "metadata": {},
   "outputs": [
    {
     "data": {
      "text/plain": [
       "11"
      ]
     },
     "execution_count": 22,
     "metadata": {},
     "output_type": "execute_result"
    }
   ],
   "source": [
    "#it wile write in the file\n",
    "my_file.write('Datatrained') #11 in the response refures to the number of character"
   ]
  },
  {
   "cell_type": "code",
   "execution_count": 23,
   "id": "2e730a4f",
   "metadata": {},
   "outputs": [],
   "source": [
    "my_file.close()# need to close the file once we open it"
   ]
  },
  {
   "cell_type": "markdown",
   "id": "823a64a9",
   "metadata": {},
   "source": [
    "Iterating through a file\n",
    "\n",
    "We can also write in the file by useing multiple line. "
   ]
  },
  {
   "cell_type": "code",
   "execution_count": 24,
   "id": "9b0f3bdb",
   "metadata": {},
   "outputs": [
    {
     "name": "stdout",
     "output_type": "stream",
     "text": [
      "Overwriting untitled.txt\n"
     ]
    }
   ],
   "source": [
    "%%writefile untitled.txt\n",
    "first line\n",
    "secound line\n",
    "#its saying overwriting as this file already existes and its overwriting on it"
   ]
  },
  {
   "cell_type": "code",
   "execution_count": 25,
   "id": "67f7db2e",
   "metadata": {},
   "outputs": [
    {
     "name": "stdout",
     "output_type": "stream",
     "text": [
      "first line\n",
      "\n",
      "secound line\n",
      "\n"
     ]
    }
   ],
   "source": [
    "#for getting the response line by line or by iterating we have to use for loop\n",
    "for line in open('untitled.txt'):\n",
    "    print(line)"
   ]
  },
  {
   "cell_type": "markdown",
   "id": "123f89b9",
   "metadata": {},
   "source": [
    "Modules and Packages\n",
    "\n",
    "Modules in python are simplefiles with .py extension which implement a set of functions. We have to check in python for all the built in modules before importing the modules. Once the modules are loaded it will not be reloaded."
   ]
  },
  {
   "cell_type": "code",
   "execution_count": 26,
   "id": "d77ceecb",
   "metadata": {},
   "outputs": [],
   "source": [
    "#import the library\n",
    "import math"
   ]
  },
  {
   "cell_type": "code",
   "execution_count": 27,
   "id": "5270d67c",
   "metadata": {},
   "outputs": [
    {
     "name": "stdout",
     "output_type": "stream",
     "text": [
      "['__doc__', '__loader__', '__name__', '__package__', '__spec__', 'acos', 'acosh', 'asin', 'asinh', 'atan', 'atan2', 'atanh', 'ceil', 'comb', 'copysign', 'cos', 'cosh', 'degrees', 'dist', 'e', 'erf', 'erfc', 'exp', 'expm1', 'fabs', 'factorial', 'floor', 'fmod', 'frexp', 'fsum', 'gamma', 'gcd', 'hypot', 'inf', 'isclose', 'isfinite', 'isinf', 'isnan', 'isqrt', 'ldexp', 'lgamma', 'log', 'log10', 'log1p', 'log2', 'modf', 'nan', 'perm', 'pi', 'pow', 'prod', 'radians', 'remainder', 'sin', 'sinh', 'sqrt', 'tan', 'tanh', 'tau', 'trunc']\n"
     ]
    }
   ],
   "source": [
    "#print submodules using dir function\n",
    "print(dir(math))"
   ]
  },
  {
   "cell_type": "code",
   "execution_count": 28,
   "id": "cc0a624d",
   "metadata": {},
   "outputs": [
    {
     "data": {
      "text/plain": [
       "9.428679653058534"
      ]
     },
     "execution_count": 28,
     "metadata": {},
     "output_type": "execute_result"
    }
   ],
   "source": [
    "#use it ceiling rounding\n",
    "math.sqrt(88.9)"
   ]
  },
  {
   "cell_type": "markdown",
   "id": "dc78cc2b",
   "metadata": {},
   "source": [
    "You cannot use submodules directly without importing the package."
   ]
  },
  {
   "cell_type": "code",
   "execution_count": 29,
   "id": "3177a948",
   "metadata": {},
   "outputs": [
    {
     "ename": "NameError",
     "evalue": "name 'sqrt' is not defined",
     "output_type": "error",
     "traceback": [
      "\u001b[1;31m---------------------------------------------------------------------------\u001b[0m",
      "\u001b[1;31mNameError\u001b[0m                                 Traceback (most recent call last)",
      "\u001b[1;32m<ipython-input-29-53c38ff6c130>\u001b[0m in \u001b[0;36m<module>\u001b[1;34m\u001b[0m\n\u001b[1;32m----> 1\u001b[1;33m \u001b[0msqrt\u001b[0m\u001b[1;33m(\u001b[0m\u001b[1;36m36\u001b[0m\u001b[1;33m)\u001b[0m\u001b[1;33m\u001b[0m\u001b[1;33m\u001b[0m\u001b[0m\n\u001b[0m",
      "\u001b[1;31mNameError\u001b[0m: name 'sqrt' is not defined"
     ]
    }
   ],
   "source": [
    "#sub module will not work alone\n",
    "sqrt(36)"
   ]
  },
  {
   "cell_type": "code",
   "execution_count": 30,
   "id": "3191421e",
   "metadata": {},
   "outputs": [
    {
     "data": {
      "text/plain": [
       "6.0"
      ]
     },
     "execution_count": 30,
     "metadata": {},
     "output_type": "execute_result"
    }
   ],
   "source": [
    "#module with submodules will give the correct response\n",
    "math.sqrt(36)"
   ]
  },
  {
   "cell_type": "code",
   "execution_count": 33,
   "id": "92d1806e",
   "metadata": {},
   "outputs": [],
   "source": [
    "#import a specific submodule for module so that we can run it\n",
    "from math import sqrt"
   ]
  },
  {
   "cell_type": "code",
   "execution_count": 34,
   "id": "68c719c4",
   "metadata": {},
   "outputs": [
    {
     "data": {
      "text/plain": [
       "1.7320508075688772"
      ]
     },
     "execution_count": 34,
     "metadata": {},
     "output_type": "execute_result"
    }
   ],
   "source": [
    "sqrt(3)"
   ]
  },
  {
   "cell_type": "markdown",
   "id": "1a9d1fbb",
   "metadata": {},
   "source": [
    "Input\n",
    "\n",
    "this allows the user to input the data as per the user"
   ]
  },
  {
   "cell_type": "code",
   "execution_count": 35,
   "id": "d7504fba",
   "metadata": {},
   "outputs": [
    {
     "name": "stdout",
     "output_type": "stream",
     "text": [
      "What is your name?Avijit Mishra\n"
     ]
    }
   ],
   "source": [
    "#programe to take the input string from user\n",
    "name=input(\"What is your name?\")"
   ]
  },
  {
   "cell_type": "code",
   "execution_count": 36,
   "id": "6bccf3c6",
   "metadata": {},
   "outputs": [
    {
     "name": "stdout",
     "output_type": "stream",
     "text": [
      "What is your age ?36\n",
      "Your age is: 36\n"
     ]
    }
   ],
   "source": [
    "#integer type data\n",
    "age=input(\"What is your age ?\")\n",
    "print(\"Your age is:\", age)"
   ]
  },
  {
   "cell_type": "code",
   "execution_count": 38,
   "id": "0202c8a6",
   "metadata": {},
   "outputs": [
    {
     "name": "stdout",
     "output_type": "stream",
     "text": [
      "What is your name? Avijit Mishra\n",
      "It was nice talking to you Avijit Mishra!\n",
      "What is your age 36\n",
      "Hey, you are already 36 years old, Mr.Avijit Mishra!\n"
     ]
    }
   ],
   "source": [
    "name=input(\"What is your name? \")\n",
    "print(\"It was nice talking to you \" + name + \"!\")\n",
    "age=input(\"What is your age \")\n",
    "print(\"Hey, you are already \"+ age +\" years old, Mr.\"+ name + \"!\")"
   ]
  },
  {
   "cell_type": "markdown",
   "id": "1d2bfe6e",
   "metadata": {},
   "source": [
    "in above case we were able to take string data only, now we will discuss how can we specify the the type of date input"
   ]
  },
  {
   "cell_type": "code",
   "execution_count": 40,
   "id": "69f1d4e7",
   "metadata": {},
   "outputs": [
    {
     "name": "stdout",
     "output_type": "stream",
     "text": [
      "What is your age ?34\n",
      "Your age is: 34\n"
     ]
    }
   ],
   "source": [
    "#taking only integer data type\n",
    "age=int(input(\"What is your age ?\"))\n",
    "print(\"Your age is:\", age)"
   ]
  },
  {
   "cell_type": "code",
   "execution_count": 42,
   "id": "301b0b2e",
   "metadata": {},
   "outputs": [
    {
     "name": "stdout",
     "output_type": "stream",
     "text": [
      "What is your age ?34\n",
      "Your age is: 34.0\n"
     ]
    }
   ],
   "source": [
    "#taking only float data type\n",
    "age=float(input(\"What is your age ?\"))\n",
    "print(\"Your age is:\", age)"
   ]
  },
  {
   "cell_type": "markdown",
   "id": "01059901",
   "metadata": {},
   "source": [
    "Errors and Exception Handeling"
   ]
  },
  {
   "cell_type": "markdown",
   "id": "a6273894",
   "metadata": {},
   "source": [
    "1. Syntax error - it occures when we miss any sintex"
   ]
  },
  {
   "cell_type": "markdown",
   "id": "291359c4",
   "metadata": {},
   "source": [
    "2. Try and Except\n",
    "\n",
    "The basic terminology and syntax used to handle errors in python is the try and except statements. The code which can cause an exception to occure is put in the try block and the handeling of the exception are the implemented in the except block of code. The syntax form is:\n",
    "   \n",
    "  \n",
    "  try:\n",
    "        you do your operation here.....\n",
    "    except Exception I:\n",
    "        if there is exception I, then execute this block.\n",
    "    except Expection II:\n",
    "        if there is exception II, then excute this block.\n",
    "    so on ....\n",
    "    else:\n",
    "        if there is no exception then excute this block.\n",
    "\n",
    "\n",
    "Using just except, we can check for any exception:   "
   ]
  },
  {
   "cell_type": "code",
   "execution_count": 1,
   "id": "5e4af4c1",
   "metadata": {},
   "outputs": [
    {
     "name": "stdout",
     "output_type": "stream",
     "text": [
      "Error: could not find file or read data\n"
     ]
    }
   ],
   "source": [
    "#when we are doubtfull that we might get an error we are useing try \n",
    "try:\n",
    "    f=open('untitled.txt','w')#we are trying to open a file in write mode\n",
    "    f.read()#we cannot read a file in read mode\n",
    "except IOError:#this command will check for the IOerror and then execute this print statement\n",
    "    print ('Error: could not find file or read data')\n",
    "else:\n",
    "    print(\"content written successfully\")\n",
    "    f.close()\n",
    "#This is giving us the output as shown below as we are trying to read a file in wite mode\n",
    "#this way we can find out where we have done the error in codeing"
   ]
  },
  {
   "cell_type": "code",
   "execution_count": 4,
   "id": "e9ae8600",
   "metadata": {},
   "outputs": [
    {
     "name": "stdout",
     "output_type": "stream",
     "text": [
      "Always execute finally code blocks\n"
     ]
    },
    {
     "ename": "FileNotFoundError",
     "evalue": "[Errno 2] No such file or directory: 'untitle.txt'",
     "output_type": "error",
     "traceback": [
      "\u001b[1;31m---------------------------------------------------------------------------\u001b[0m",
      "\u001b[1;31mFileNotFoundError\u001b[0m                         Traceback (most recent call last)",
      "\u001b[1;32m<ipython-input-4-d46edaa4199a>\u001b[0m in \u001b[0;36m<module>\u001b[1;34m\u001b[0m\n\u001b[0;32m      2\u001b[0m \u001b[1;31m#in try and excute the error remark we will get if there is an error but in try and final it dosnot care if its giving an error or not it will show the finally output.\u001b[0m\u001b[1;33m\u001b[0m\u001b[1;33m\u001b[0m\u001b[1;33m\u001b[0m\u001b[0m\n\u001b[0;32m      3\u001b[0m \u001b[1;32mtry\u001b[0m\u001b[1;33m:\u001b[0m\u001b[1;33m\u001b[0m\u001b[1;33m\u001b[0m\u001b[0m\n\u001b[1;32m----> 4\u001b[1;33m     \u001b[0mf\u001b[0m\u001b[1;33m=\u001b[0m\u001b[0mopen\u001b[0m\u001b[1;33m(\u001b[0m\u001b[1;34m\"untitle.txt\"\u001b[0m\u001b[1;33m,\u001b[0m\u001b[1;34m\"r\"\u001b[0m\u001b[1;33m)\u001b[0m\u001b[1;33m\u001b[0m\u001b[1;33m\u001b[0m\u001b[0m\n\u001b[0m\u001b[0;32m      5\u001b[0m     \u001b[0mf\u001b[0m\u001b[1;33m.\u001b[0m\u001b[0mwrite\u001b[0m\u001b[1;33m(\u001b[0m\u001b[1;34m\"Test write statement\"\u001b[0m\u001b[1;33m)\u001b[0m\u001b[1;33m\u001b[0m\u001b[1;33m\u001b[0m\u001b[0m\n\u001b[0;32m      6\u001b[0m \u001b[1;32mfinally\u001b[0m\u001b[1;33m:\u001b[0m\u001b[1;33m\u001b[0m\u001b[1;33m\u001b[0m\u001b[0m\n",
      "\u001b[1;31mFileNotFoundError\u001b[0m: [Errno 2] No such file or directory: 'untitle.txt'"
     ]
    }
   ],
   "source": [
    "#try and finally\n",
    "#in try and excute the error remark we will get if there is an error but in try and final it dosnot care if its giving an error or not it will show the finally output.\n",
    "try:\n",
    "    f=open(\"untitle.txt\",\"r\")\n",
    "    f.write(\"Test write statement\")\n",
    "finally:\n",
    "    print(\"Always execute finally code blocks\")\n",
    "#as we can see from below response we got the error as we are creating error yet we got the finally statement too.\n",
    "#this is used when we are trying to run the code and dont want to stop here we can use it"
   ]
  },
  {
   "cell_type": "code",
   "execution_count": 10,
   "id": "74436ce0",
   "metadata": {},
   "outputs": [],
   "source": [
    "#We can combine the try, execute and finally.\n",
    "def askint():\n",
    "    try:\n",
    "        val=int(input(\"Please enter an phone number:  \"))\n",
    "    except:\n",
    "        print(\"Looks like you did not enter an integer!\")\n",
    "    finally:\n",
    "        print(\"Finally, I executed!\")\n",
    "    print(val)"
   ]
  },
  {
   "cell_type": "code",
   "execution_count": 11,
   "id": "ec06f578",
   "metadata": {},
   "outputs": [
    {
     "name": "stdout",
     "output_type": "stream",
     "text": [
      "Please enter an phone number:  12235\n",
      "Finally, I executed!\n",
      "12235\n"
     ]
    }
   ],
   "source": [
    "#call the above function\n",
    "askint()\n",
    "#we entered intger so all is good"
   ]
  },
  {
   "cell_type": "code",
   "execution_count": 12,
   "id": "ad81f680",
   "metadata": {},
   "outputs": [
    {
     "name": "stdout",
     "output_type": "stream",
     "text": [
      "Please enter an phone number:  avijit\n",
      "Looks like you did not enter an integer!\n",
      "Finally, I executed!\n"
     ]
    },
    {
     "ename": "UnboundLocalError",
     "evalue": "local variable 'val' referenced before assignment",
     "output_type": "error",
     "traceback": [
      "\u001b[1;31m---------------------------------------------------------------------------\u001b[0m",
      "\u001b[1;31mUnboundLocalError\u001b[0m                         Traceback (most recent call last)",
      "\u001b[1;32m<ipython-input-12-051bc46e5c2f>\u001b[0m in \u001b[0;36m<module>\u001b[1;34m\u001b[0m\n\u001b[0;32m      1\u001b[0m \u001b[1;31m#call the function again but we wil not put intger but string\u001b[0m\u001b[1;33m\u001b[0m\u001b[1;33m\u001b[0m\u001b[1;33m\u001b[0m\u001b[0m\n\u001b[1;32m----> 2\u001b[1;33m \u001b[0maskint\u001b[0m\u001b[1;33m(\u001b[0m\u001b[1;33m)\u001b[0m\u001b[1;33m\u001b[0m\u001b[1;33m\u001b[0m\u001b[0m\n\u001b[0m",
      "\u001b[1;32m<ipython-input-10-d8977a504d50>\u001b[0m in \u001b[0;36maskint\u001b[1;34m()\u001b[0m\n\u001b[0;32m      7\u001b[0m     \u001b[1;32mfinally\u001b[0m\u001b[1;33m:\u001b[0m\u001b[1;33m\u001b[0m\u001b[1;33m\u001b[0m\u001b[0m\n\u001b[0;32m      8\u001b[0m         \u001b[0mprint\u001b[0m\u001b[1;33m(\u001b[0m\u001b[1;34m\"Finally, I executed!\"\u001b[0m\u001b[1;33m)\u001b[0m\u001b[1;33m\u001b[0m\u001b[1;33m\u001b[0m\u001b[0m\n\u001b[1;32m----> 9\u001b[1;33m     \u001b[0mprint\u001b[0m\u001b[1;33m(\u001b[0m\u001b[0mval\u001b[0m\u001b[1;33m)\u001b[0m\u001b[1;33m\u001b[0m\u001b[1;33m\u001b[0m\u001b[0m\n\u001b[0m",
      "\u001b[1;31mUnboundLocalError\u001b[0m: local variable 'val' referenced before assignment"
     ]
    }
   ],
   "source": [
    "#call the function again but we wil not put intger but string\n",
    "askint()\n",
    "# as shown below its giving me error along with the finally and execute error"
   ]
  },
  {
   "cell_type": "code",
   "execution_count": 14,
   "id": "21aa3fb7",
   "metadata": {},
   "outputs": [
    {
     "name": "stdout",
     "output_type": "stream",
     "text": [
      "Please enter an integer:  abc\n",
      "Looks like you did not enter an number\n",
      "Finally, I Executed\n",
      "Please enter an integer:  qwt456\n",
      "Looks like you did not enter an number\n",
      "Finally, I Executed\n",
      "Please enter an integer:  123\n",
      "Yes thats an number\n",
      "Finally, I Executed\n"
     ]
    }
   ],
   "source": [
    "#we can write the above code in which the user will only input intger\n",
    "def askint():\n",
    "    while True:#it will enterinside if it fulfills the condition otherwise it willnot\n",
    "        try:\n",
    "            val=int(input(\"Please enter an integer:  \"))\n",
    "        except:\n",
    "            print(\"Looks like you did not enter an number\")\n",
    "            continue\n",
    "        else:\n",
    "            print(\"Yes thats an number\")\n",
    "            break\n",
    "        finally:\n",
    "            print(\"Finally, I Executed\")\n",
    "askint()\n",
    "#as shown below we continusly running it until we got integer input"
   ]
  },
  {
   "cell_type": "markdown",
   "id": "0f6b3741",
   "metadata": {},
   "source": [
    "Obect Oriented programming (OOP)\n",
    "\n",
    "Its a sequence of command which we can run useing the OOPs command. We have class inside the OOPs and the class consistes of methods. A function inside a class is called a method. "
   ]
  },
  {
   "cell_type": "code",
   "execution_count": 15,
   "id": "56b6c12b",
   "metadata": {},
   "outputs": [],
   "source": [
    "#creating a class\n",
    "#class classname(base_classes):\n",
    "#    statements\n",
    "class Person:\n",
    "    pass #user donot want to do anything right now thats why pass is used"
   ]
  },
  {
   "cell_type": "code",
   "execution_count": null,
   "id": "ccc81d6e",
   "metadata": {},
   "outputs": [],
   "source": [
    "# init - its a object constractor. it intilize what ever we are going to put inside the method.\n",
    "#self is the referance\n",
    "class Person:\n",
    "    def __init__(self,name,surname,year_of_birth):\n",
    "        self.name=name\n",
    "        self.surname=surname\n",
    "        self.year_of_birth=year_of_birth"
   ]
  },
  {
   "cell_type": "code",
   "execution_count": 11,
   "id": "cf1b7333",
   "metadata": {},
   "outputs": [
    {
     "name": "stdout",
     "output_type": "stream",
     "text": [
      "Ram Raja was born in 2000. Bearing student id 24\n",
      "21\n"
     ]
    }
   ],
   "source": [
    "#Methods\n",
    "class Person:\n",
    "    def __init__(self,name,surname,year_of_birth,student_id):\n",
    "        self.name=name\n",
    "        self.surname=surname\n",
    "        self.year_of_birth=year_of_birth\n",
    "        self.student_id=student_id\n",
    "        \n",
    "    def age(self,current_year):\n",
    "        return current_year - self.year_of_birth\n",
    "    \n",
    "    def __str__(self):\n",
    "        return \"%s %s was born in %d. Bearing student id %d\" % (self.name,self.surname,self.year_of_birth,self.student_id)\n",
    "        \n",
    "alec = Person(\"Ram\",\"Raja\", 2000,24)\n",
    "print(alec)\n",
    "print(alec.age(2021))"
   ]
  },
  {
   "cell_type": "code",
   "execution_count": 13,
   "id": "352c29b8",
   "metadata": {},
   "outputs": [
    {
     "name": "stdout",
     "output_type": "stream",
     "text": [
      "Charlie Brown was born in 2006. Bearing student id 26\n"
     ]
    }
   ],
   "source": [
    "#Inheritance - calling a exesting class and adding it to a new class is called inherantance\n",
    "class student(Person):\n",
    "    def __init__(self,student_id,*args):\n",
    "        super(student,self).__init__(*args)#super will establish connection between 2 classes (student and person)\n",
    "        self._student_id =student_id       #__init__(*args) is used as we donot know the number of data we are going to receive therefore we are inintializing to receive the data\n",
    "charlie = student(1, 'Charlie', 'Brown', 2006, 26)\n",
    "print(charlie)"
   ]
  },
  {
   "cell_type": "code",
   "execution_count": 4,
   "id": "08d07ef4",
   "metadata": {},
   "outputs": [
    {
     "name": "stdout",
     "output_type": "stream",
     "text": [
      "Tyre: \n",
      " \tBranch: MRF\n",
      " \tBelted_bias: True\n",
      " \tOptima pressure: 34\n",
      "Engine: \n",
      " \tFuel type: Petrol\n",
      " \tNoise Level: 2.3\n",
      "Body:\n",
      " \tSize: SUV\n"
     ]
    }
   ],
   "source": [
    "#Encapsulation - is an another powerful way to extend a class which consists on wrapping an object with a secound one.\n",
    "#it means combination of variour class which are compatable with each other or are made for a specific combination only.\n",
    "# \\n means it will print in next line \\t is add one tab(4space)\n",
    "class Tyres:\n",
    "    def __init__(self,branch,belted_bias,opt_pressure):\n",
    "        self.branch=branch\n",
    "        self.belted_bias=belted_bias\n",
    "        self.opt_pressure=opt_pressure\n",
    "    def __str__(self):\n",
    "        return(\"Tyre: \\n \\tBranch: \" + self.branch + \n",
    "               \"\\n \\tBelted_bias: \"+ str(self.belted_bias) +\n",
    "               \"\\n \\tOptima pressure: \" +str(self.opt_pressure))\n",
    "class Engine:\n",
    "    def __init__(self,fule_type,noise_level):\n",
    "        self.fule_type=fule_type\n",
    "        self.noise_level=noise_level\n",
    "    def __str__(self):\n",
    "        return(\"Engine: \\n \\tFuel type: \"+self.fule_type + \n",
    "              \"\\n \\tNoise Level: \" + str(self.noise_level))\n",
    "class Body:\n",
    "    def __init__(self, size):\n",
    "        self.size = size\n",
    "    def __str__(self):\n",
    "        return\"Body:\\n \\tSize: \" + self.size\n",
    "\n",
    "class Car:\n",
    "    def __init__(self,tyres,engine,body):\n",
    "        self.tyres=tyres\n",
    "        self.engine=engine\n",
    "        self.body=body\n",
    "    def __str__(self):\n",
    "        return str(self.tyres)+ \"\\n\" + str(self.engine) + \"\\n\" + str(self.body)\n",
    "\n",
    "t = Tyres('MRF', True, 34)\n",
    "e = Engine('Petrol', 2.3)\n",
    "b = Body('SUV')\n",
    "c = Car(t,e,b)\n",
    "print(c)"
   ]
  },
  {
   "cell_type": "markdown",
   "id": "d2b8d382",
   "metadata": {},
   "source": [
    "Data Base Management\n",
    "\n",
    "It is a storage where the data are stored in rows and column and it is fatched by the use of SQL. The database has multiple tables.  "
   ]
  },
  {
   "cell_type": "markdown",
   "id": "c04a302f",
   "metadata": {},
   "source": [
    "my SQL connector\n",
    "\n",
    "1. install mysql software on your computer \n",
    "2. !pip install mysql in python\n",
    "\n"
   ]
  },
  {
   "cell_type": "code",
   "execution_count": 3,
   "id": "051c33e4",
   "metadata": {},
   "outputs": [
    {
     "name": "stdout",
     "output_type": "stream",
     "text": [
      "Requirement already satisfied: mysql in c:\\users\\user\\anaconda3\\lib\\site-packages (0.0.3)\n",
      "Requirement already satisfied: mysqlclient in c:\\users\\user\\anaconda3\\lib\\site-packages (from mysql) (2.0.3)\n"
     ]
    }
   ],
   "source": [
    "!pip install mysql\n",
    "import mysql.connector #this will establish connect the python with sql"
   ]
  },
  {
   "cell_type": "code",
   "execution_count": 4,
   "id": "573aeaa7",
   "metadata": {},
   "outputs": [
    {
     "name": "stdout",
     "output_type": "stream",
     "text": [
      "<mysql.connector.connection_cext.CMySQLConnection object at 0x00000213A1AD1C40>\n"
     ]
    }
   ],
   "source": [
    "#connecting my sql user to python\n",
    "mydb = mysql.connector.connect(\n",
    "host = \"localhost\",\n",
    "user=\"root\",\n",
    "password =\"Swrupa@444367\"\n",
    ")\n",
    "print(mydb)"
   ]
  },
  {
   "cell_type": "code",
   "execution_count": 10,
   "id": "4b3ed000",
   "metadata": {},
   "outputs": [
    {
     "name": "stdout",
     "output_type": "stream",
     "text": [
      "('authordb',)\n",
      "('databasel',)\n",
      "('department',)\n",
      "('employeedb',)\n",
      "('information_schema',)\n",
      "('mysql',)\n",
      "('patients',)\n",
      "('performance_schema',)\n",
      "('sakila',)\n",
      "('sportsdb',)\n",
      "('studentdb',)\n",
      "('sys',)\n",
      "('world',)\n"
     ]
    }
   ],
   "source": [
    "#checking db\n",
    "mycursor = mydb.cursor()\n",
    "\n",
    "mycursor.execute(\"SHOW DATABASES\")\n",
    "for x in mycursor:\n",
    "    print(x)"
   ]
  },
  {
   "cell_type": "code",
   "execution_count": 9,
   "id": "3b9d21e8",
   "metadata": {},
   "outputs": [],
   "source": [
    "#create new db\n",
    "mycursor = mydb.cursor()\n",
    "\n",
    "mycursor.execute(\"CREATE DATABASE databasel\")# databasel is the name of new database"
   ]
  },
  {
   "cell_type": "code",
   "execution_count": 12,
   "id": "1e432a55",
   "metadata": {
    "scrolled": true
   },
   "outputs": [],
   "source": [
    "#create tables inside db databasel\n",
    "mydb = mysql.connector.connect( # its equal to use database command in SQL we are connecting it in SQL\n",
    "host = \"localhost\",\n",
    "user = \"root\",\n",
    "password = \"Swrupa@444367\",\n",
    "database = \"databasel\"\n",
    ")\n",
    "\n",
    "mycursor = mydb.cursor()\n",
    "mycursor.execute(\"CREATE TABLE school(gender VARCHAR(6),student_id INTEGER(10),marks INTEGER(3))\")\n",
    "#we are creating table name school, with coloum name gender,student id and mark. We are also defining the type of date \n",
    "# and maximum number of characters allowed in it. "
   ]
  },
  {
   "cell_type": "code",
   "execution_count": 13,
   "id": "eecf32c3",
   "metadata": {},
   "outputs": [
    {
     "name": "stdout",
     "output_type": "stream",
     "text": [
      "('school',)\n"
     ]
    }
   ],
   "source": [
    "#check if the tables we have created is there or not\n",
    "mydb = mysql.connector.connect( \n",
    "host = \"localhost\",\n",
    "user = \"root\",\n",
    "password = \"Swrupa@444367\",\n",
    "database = \"databasel\"\n",
    ")\n",
    "\n",
    "mycursor = mydb.cursor()\n",
    "mycursor.execute(\"SHOW TABLES\")\n",
    "for x in mycursor:\n",
    "    print(x)"
   ]
  },
  {
   "cell_type": "code",
   "execution_count": 15,
   "id": "c06dc3b4",
   "metadata": {},
   "outputs": [
    {
     "name": "stdout",
     "output_type": "stream",
     "text": [
      "1 record inserted\n"
     ]
    }
   ],
   "source": [
    "#Inserting data into the table: single record insert\n",
    "mydb = mysql.connector.connect( \n",
    "host = \"localhost\",\n",
    "user = \"root\",\n",
    "password = \"Swrupa@444367\",\n",
    "database = \"databasel\"\n",
    ")\n",
    "\n",
    "mycursor = mydb.cursor()\n",
    "\n",
    "sql = \"INSERT INTO school(gender,student_id,marks) VALUES('Male',106745,45)\"\n",
    "mycursor.execute(sql)\n",
    "mydb.commit()#commit saves the changes permently\n",
    "\n",
    "print(mycursor.rowcount,'record inserted')#rowcount will count the rows inside a table\n"
   ]
  },
  {
   "cell_type": "code",
   "execution_count": 17,
   "id": "c381810b",
   "metadata": {},
   "outputs": [
    {
     "name": "stdout",
     "output_type": "stream",
     "text": [
      "4 Record inserted\n"
     ]
    }
   ],
   "source": [
    "#inserting multiple records\n",
    "sql = \"INSERT INTO school(gender,student_id,marks) VALUES(%s,%s,%s)\"\n",
    "val = ((\"Male\",12345,55),(\"Female\",12346,56),(\"Male\",12347,89),(\"Female\",12348,76))\n",
    "\n",
    "mycursor.executemany(sql,val)# as it have more tehn one valus thats why we use executemany\n",
    "mybd.commit()\n",
    "\n",
    "print(mycursor.rowcount, \"Record inserted\")"
   ]
  },
  {
   "cell_type": "code",
   "execution_count": 24,
   "id": "094dcc67",
   "metadata": {},
   "outputs": [
    {
     "name": "stdout",
     "output_type": "stream",
     "text": [
      "('Male', 12347, 89)\n",
      "('Female', 12348, 76)\n",
      "('Female', 12346, 56)\n",
      "('Male', 12345, 55)\n",
      "('Male', 106745, 45)\n"
     ]
    }
   ],
   "source": [
    "#to fatch data from the database\n",
    "mycursor = mydb.cursor()\n",
    "\n",
    "mycursor.execute(\"SELECT * FROM school ORDER by marks desc\")# by defult it is lowest to highest but we can use desc it willl give decending order\n",
    "\n",
    "for x in mycursor:\n",
    "    print(x)"
   ]
  },
  {
   "cell_type": "code",
   "execution_count": 35,
   "id": "92b655c6",
   "metadata": {},
   "outputs": [
    {
     "name": "stdout",
     "output_type": "stream",
     "text": [
      "('local_infile', 'ON')\n"
     ]
    }
   ],
   "source": [
    "#how to load external data into the table\n",
    "#check if the local files are on ON mode ifnot then this command will\n",
    "mycursor.execute(\"SHOW VARIABLES LIKE 'local_infile'\")\n",
    "\n",
    "#this shows variable name and value\n",
    "for x in mycursor:\n",
    "    print(x)"
   ]
  },
  {
   "cell_type": "code",
   "execution_count": 27,
   "id": "0091d54a",
   "metadata": {},
   "outputs": [],
   "source": [
    "mycursor.execute(\"SET GLOBAL local_infile = ON\")"
   ]
  },
  {
   "cell_type": "code",
   "execution_count": 36,
   "id": "5a5be2ff",
   "metadata": {},
   "outputs": [
    {
     "name": "stdout",
     "output_type": "stream",
     "text": [
      "('secure_file_priv', 'C:\\\\ProgramData\\\\MySQL\\\\MySQL Server 8.0\\\\Uploads\\\\')\n"
     ]
    }
   ],
   "source": [
    "#it will only accept file from specific location or path and not from anywhere\n",
    "mycursor.execute(\"SHOW VARIABLES LIKE 'secure_file_priv'\")\n",
    "\n",
    "#this shows the file path. Load your csv file in the file path.\n",
    "#since we are working in the local system, you have to follow this path. We have to follow the said path only.\n",
    "for x in mycursor:\n",
    "    print(x)"
   ]
  },
  {
   "cell_type": "code",
   "execution_count": 39,
   "id": "7e8c274e",
   "metadata": {
    "scrolled": true
   },
   "outputs": [
    {
     "ename": "SyntaxError",
     "evalue": "(unicode error) 'unicodeescape' codec can't decode bytes in position 57-58: truncated \\UXXXXXXXX escape (<ipython-input-39-51aa9e93aa95>, line 2)",
     "output_type": "error",
     "traceback": [
      "\u001b[1;36m  File \u001b[1;32m\"<ipython-input-39-51aa9e93aa95>\"\u001b[1;36m, line \u001b[1;32m2\u001b[0m\n\u001b[1;33m    mycursor.execute(\"LOAD DATA INFILE 'C:\\Program Files\\MySQL\\MySQL Server 8.0\\Uploads\\rough1.csv' INTO TABLE school FIELDS TERMINATED BY ',' LINES TERMINATED BY '\\n'IGNORE 1 LINES\")\u001b[0m\n\u001b[1;37m                     ^\u001b[0m\n\u001b[1;31mSyntaxError\u001b[0m\u001b[1;31m:\u001b[0m (unicode error) 'unicodeescape' codec can't decode bytes in position 57-58: truncated \\UXXXXXXXX escape\n"
     ]
    }
   ],
   "source": [
    "#load data into mysql\n",
    "mycursor.execute(\"LOAD DATA INFILE 'C:\\Program Files\\MySQL\\MySQL Server 8.0\\Uploads\\rough1.csv' INTO TABLE school FIELDS TERMINATED BY ',' LINES TERMINATED BY '\\n'IGNORE 1 LINES\")\n",
    "mydb.commit()\n",
    "#field or data terminated by , and lines are separeted by \\ \n",
    "#as the first line is coloum name thats why to IGNORE 1 line is used"
   ]
  },
  {
   "cell_type": "code",
   "execution_count": null,
   "id": "d6668805",
   "metadata": {},
   "outputs": [],
   "source": []
  }
 ],
 "metadata": {
  "kernelspec": {
   "display_name": "Python 3",
   "language": "python",
   "name": "python3"
  },
  "language_info": {
   "codemirror_mode": {
    "name": "ipython",
    "version": 3
   },
   "file_extension": ".py",
   "mimetype": "text/x-python",
   "name": "python",
   "nbconvert_exporter": "python",
   "pygments_lexer": "ipython3",
   "version": "3.8.8"
  }
 },
 "nbformat": 4,
 "nbformat_minor": 5
}
